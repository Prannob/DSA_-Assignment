{
  "nbformat": 4,
  "nbformat_minor": 0,
  "metadata": {
    "kernelspec": {
      "display_name": "Python 3",
      "language": "python",
      "name": "python3"
    },
    "language_info": {
      "codemirror_mode": {
        "name": "ipython",
        "version": 3
      },
      "file_extension": ".py",
      "mimetype": "text/x-python",
      "name": "python",
      "nbconvert_exporter": "python",
      "pygments_lexer": "ipython3",
      "version": "3.7.6"
    },
    "colab": {
      "name": "Prannob_Q&A activity student file.ipynb",
      "provenance": [],
      "collapsed_sections": []
    }
  },
  "cells": [
    {
      "cell_type": "markdown",
      "metadata": {
        "id": "4z_Z-K1tlrS7"
      },
      "source": [
        "## 1. Complete the following code to find the area of an equilateral triangle. Output should be as displayed"
      ]
    },
    {
      "cell_type": "code",
      "metadata": {
        "id": "rP2qFD_SlrS_",
        "colab": {
          "base_uri": "https://localhost:8080/"
        },
        "outputId": "bed8103e-c7bf-4fd9-8657-a00af0ccac0a"
      },
      "source": [
        "import math\n",
        "side = float (input(\"Enter the side of the equilateral triangle: \"))\n",
        "area = ((math.sqrt(3))/4)*pow(side,2)\n",
        "print(\"Area =\", round(area,3))"
      ],
      "execution_count": null,
      "outputs": [
        {
          "output_type": "stream",
          "name": "stdout",
          "text": [
            "Enter the side of the equilateral triangle: 7\n",
            "Area = 21.218\n"
          ]
        }
      ]
    },
    {
      "cell_type": "markdown",
      "metadata": {
        "id": "TjVKjIfclrTB"
      },
      "source": [
        "## 2. Write a program to count the number of each characters in a string"
      ]
    },
    {
      "cell_type": "code",
      "metadata": {
        "id": "JY5seVUQlrTC",
        "colab": {
          "base_uri": "https://localhost:8080/"
        },
        "outputId": "7b201135-fa5f-485d-ebc4-127bb5fd5b3a"
      },
      "source": [
        "chara=input(\"Enter the name :\")\n",
        "c=len(chara)\n",
        "print(c)\n",
        "i=1\n",
        "for i in range(0,c):\n",
        "    d= chara.count(chara[i])\n",
        "    print(chara[i],\"=\",d)"
      ],
      "execution_count": null,
      "outputs": [
        {
          "output_type": "stream",
          "name": "stdout",
          "text": [
            "Enter the name :ict academy\n",
            "11\n",
            "i = 1\n",
            "c = 2\n",
            "t = 1\n",
            "  = 1\n",
            "a = 2\n",
            "c = 2\n",
            "a = 2\n",
            "d = 1\n",
            "e = 1\n",
            "m = 1\n",
            "y = 1\n"
          ]
        }
      ]
    },
    {
      "cell_type": "markdown",
      "metadata": {
        "id": "l3LCULfklrTD"
      },
      "source": [
        "## Write a program to find the area and perimeter of a rectangle using functions"
      ]
    },
    {
      "cell_type": "code",
      "metadata": {
        "id": "8haQD8edlrTD"
      },
      "source": [
        "def area(l,b):\n",
        "  return(l*b)\n",
        "def perimeter(l,b):\n",
        "   return 2*(l+b)\n",
        "l=int(input(\"Enter lenght of rectangle :\"))\n",
        "b=int(input(\"Enter breadth of rectangle :\"))\n",
        "print(\"Area=\",area(l,b))\n",
        "print(\"Perimeter=\", perimeter(l,b))"
      ],
      "execution_count": null,
      "outputs": []
    },
    {
      "cell_type": "markdown",
      "metadata": {
        "id": "JHK4ZdsflrTE"
      },
      "source": [
        "## 4. Write a program to print the fibonacci series till a specified number"
      ]
    },
    {
      "cell_type": "code",
      "metadata": {
        "id": "LyBEj-4SlrTE",
        "colab": {
          "base_uri": "https://localhost:8080/"
        },
        "outputId": "bfed3627-65f8-477d-8693-009484419265"
      },
      "source": [
        "n=int(input(\"Enter lenght of sereis\"))\n",
        "su=0\n",
        "no=1\n",
        "print(\"First\",n,\"number of fibonacci sereis are\")\n",
        "for i in range (0,n):\n",
        "    b=su\n",
        "    su=su+no\n",
        "    no=b\n",
        "    print(su,end ='  ')"
      ],
      "execution_count": null,
      "outputs": [
        {
          "output_type": "stream",
          "name": "stdout",
          "text": [
            "Enter lenght of sereis6\n",
            "First 6 number of fibonacci sereis are\n",
            "1  1  2  3  5  8  "
          ]
        }
      ]
    },
    {
      "cell_type": "markdown",
      "metadata": {
        "id": "u4uBUcQKlrTE"
      },
      "source": [
        "## 5. Complete the following code to find the minimum of 3 number using cinditional statements. Output should be as displayed"
      ]
    },
    {
      "cell_type": "code",
      "metadata": {
        "id": "XdZwrZjIlrTF",
        "colab": {
          "base_uri": "https://localhost:8080/"
        },
        "outputId": "3517a351-7167-4436-9fd5-179769293217"
      },
      "source": [
        "a,b,c = input(\"Enter each numbers followed by ,  : \").split(\",\")\n",
        "\n",
        "print(\"First number :\",a)\n",
        "print(\"Second number :\",b)\n",
        "print(\"Third number :\",c)\n",
        "if (a==b==c):\n",
        "    print(\"Entered numbers are equal!!!\")\n",
        "elif (a<b and a<c):\n",
        "    print(a,\" a is smallest\")\n",
        "elif (b<a and b<c):\n",
        "    print(b,\"b is smallest\")\n",
        "elif (c<a and c<b):\n",
        "    print(c,\"c is smallest\")"
      ],
      "execution_count": null,
      "outputs": [
        {
          "output_type": "stream",
          "name": "stdout",
          "text": [
            "Enter each numbers followed by ,  : 3,-11,12\n",
            "First number : 3\n",
            "Second number : -11\n",
            "Third number : 12\n",
            "-11 b is smallest\n"
          ]
        }
      ]
    },
    {
      "cell_type": "code",
      "metadata": {
        "colab": {
          "base_uri": "https://localhost:8080/"
        },
        "id": "FTqqtb1yMB84",
        "outputId": "aefa444f-0f15-4571-9f7b-513468f993da"
      },
      "source": [
        "3,-11,12\n"
      ],
      "execution_count": null,
      "outputs": [
        {
          "output_type": "stream",
          "name": "stdout",
          "text": [
            "Enter three numbers followed by  : 3 -11 12\n",
            "First number : 3\n",
            "Second number : -11\n",
            "Third number : 12\n",
            "-11  is smallest\n"
          ]
        }
      ]
    },
    {
      "cell_type": "markdown",
      "metadata": {
        "id": "aR_CnToWlrTG"
      },
      "source": [
        "## 6. Write a program to print star pyramind. The number of rows should be taken as input from the user"
      ]
    },
    {
      "cell_type": "code",
      "metadata": {
        "id": "M37A-buplrTG"
      },
      "source": [
        "n=int(input(\"Enter number of rows\"))\n",
        "i=1\n",
        "for i in range (i,n+1):\n",
        "  print(i*\"*\")\n"
      ],
      "execution_count": null,
      "outputs": []
    },
    {
      "cell_type": "markdown",
      "metadata": {
        "id": "tlY6aFWBlrTH"
      },
      "source": [
        "## 7. Complete the following code to convert hour into seconds. Output should be as displayed"
      ]
    },
    {
      "cell_type": "code",
      "metadata": {
        "id": "YOZQFk7FlrTH",
        "colab": {
          "base_uri": "https://localhost:8080/"
        },
        "outputId": "ec430a1a-1ed6-436b-851d-ce55df2ecdf9"
      },
      "source": [
        "def to_seconds(t):\n",
        "    \n",
        "    return t*3600\n",
        "time_in_hours = int(input(\"Enter Hour :\"))\n",
        "print(time_in_hours ,\" Hour is equal to\" ,to_seconds(time_in_hours) ,\" Seconds\")"
      ],
      "execution_count": null,
      "outputs": [
        {
          "output_type": "stream",
          "name": "stdout",
          "text": [
            "Enter Hour1\n",
            "1  Hour is equal to 3600  Seconds\n"
          ]
        }
      ]
    },
    {
      "cell_type": "markdown",
      "metadata": {
        "id": "CnYorNiLlrTI"
      },
      "source": [
        "## 8. Write a program to print multiplication table as below"
      ]
    },
    {
      "cell_type": "code",
      "metadata": {
        "id": "dPQqDPuDlrTI",
        "colab": {
          "base_uri": "https://localhost:8080/"
        },
        "outputId": "c8250a07-dfff-47a9-e992-4b2574b36432"
      },
      "source": [
        "n=int(input(\"Enter a number to find the multiplication table::\"))\n",
        "i=0\n",
        "for i in range (1,11):\n",
        "    print(i,\"*\",n,\"=\",i*n)"
      ],
      "execution_count": null,
      "outputs": [
        {
          "output_type": "stream",
          "name": "stdout",
          "text": [
            "Enter a number to find the multiplication table::7\n",
            "1 * 7 = 7\n",
            "2 * 7 = 14\n",
            "3 * 7 = 21\n",
            "4 * 7 = 28\n",
            "5 * 7 = 35\n",
            "6 * 7 = 42\n",
            "7 * 7 = 49\n",
            "8 * 7 = 56\n",
            "9 * 7 = 63\n",
            "10 * 7 = 70\n"
          ]
        }
      ]
    },
    {
      "cell_type": "markdown",
      "metadata": {
        "id": "Fiaez8iblrTI"
      },
      "source": [
        "## 9. Write a program to take your 5 favorite food as list and print each as 'I like Biriyani'"
      ]
    },
    {
      "cell_type": "code",
      "metadata": {
        "id": "39W1zFX7lrTJ",
        "colab": {
          "base_uri": "https://localhost:8080/"
        },
        "outputId": "6b259f03-d9b4-4ada-ad37-ed71a26ef8fc"
      },
      "source": [
        "food=input(\"Enter your favourite 5 food items :\")\n",
        "food2=food.split(\",\")\n",
        "for names in food2:\n",
        "      print(\"I like \", names)"
      ],
      "execution_count": 1,
      "outputs": [
        {
          "output_type": "stream",
          "name": "stdout",
          "text": [
            "Enter your favourite 5 food itemsapple, oranges, grapes, water melon, cb\n",
            "I like  apple\n",
            "I like   oranges\n",
            "I like   grapes\n",
            "I like   water melon\n",
            "I like   cb\n"
          ]
        }
      ]
    },
    {
      "cell_type": "code",
      "metadata": {
        "id": "hhIGCCW78oua"
      },
      "source": [
        ""
      ],
      "execution_count": null,
      "outputs": []
    },
    {
      "cell_type": "markdown",
      "metadata": {
        "id": "3vlcDNNEP7d_"
      },
      "source": [
        "## 10. Find error(s) in the following code(if any) and rewrite code.\n",
        "\n"
      ]
    },
    {
      "cell_type": "code",
      "metadata": {
        "id": "coREkcY3P9sG",
        "colab": {
          "base_uri": "https://localhost:8080/"
        },
        "outputId": "fa9d1afd-ab9d-474a-a9ec-35b8f97adcd9"
      },
      "source": [
        "x= int(input(\"Enter the value of x :\"))\n",
        "for y in range (1,11):\n",
        "    if x==y:\n",
        "        print(\"They are equal\")\n",
        "    else:\n",
        "         print( \"They are unequal\")"
      ],
      "execution_count": 4,
      "outputs": [
        {
          "output_type": "stream",
          "name": "stdout",
          "text": [
            "Enter the value of x :10\n",
            "They are unequal\n",
            "They are unequal\n",
            "They are unequal\n",
            "They are unequal\n",
            "They are unequal\n",
            "They are unequal\n",
            "They are unequal\n",
            "They are unequal\n",
            "They are unequal\n",
            "They are equal\n"
          ]
        }
      ]
    }
  ]
}