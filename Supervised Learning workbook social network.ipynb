{
 "cells": [
  {
   "cell_type": "code",
   "execution_count": 1,
   "id": "739f9bd1",
   "metadata": {},
   "outputs": [],
   "source": [
    "import numpy as np\n",
    "import pandas as pd\n",
    "import matplotlib.pyplot as plt\n",
    "import seaborn as sns"
   ]
  },
  {
   "cell_type": "markdown",
   "id": "6bb5a8e8",
   "metadata": {},
   "source": [
    "Logical Regression, KNN, SVM and decision tree are discussed here"
   ]
  },
  {
   "cell_type": "markdown",
   "id": "59735b33",
   "metadata": {},
   "source": [
    "# Logical Regression"
   ]
  },
  {
   "cell_type": "markdown",
   "id": "7ddc1eb1",
   "metadata": {},
   "source": [
    "TO know more details please refer the python file \"Applications of supervised learning Technique_Loan dataset\". Random forest is described in that file"
   ]
  },
  {
   "cell_type": "code",
   "execution_count": 54,
   "id": "17d2865b",
   "metadata": {},
   "outputs": [],
   "source": [
    "data= pd.read_csv(\"Social_Network_Ads.csv\")"
   ]
  },
  {
   "cell_type": "code",
   "execution_count": 55,
   "id": "c3b725bd",
   "metadata": {},
   "outputs": [
    {
     "data": {
      "text/plain": [
       "<bound method NDFrame.describe of       User ID  Gender  Age  EstimatedSalary  Purchased\n",
       "0    15624510    Male   19            19000          0\n",
       "1    15810944    Male   35            20000          0\n",
       "2    15668575  Female   26            43000          0\n",
       "3    15603246  Female   27            57000          0\n",
       "4    15804002    Male   19            76000          0\n",
       "..        ...     ...  ...              ...        ...\n",
       "395  15691863  Female   46            41000          1\n",
       "396  15706071    Male   51            23000          1\n",
       "397  15654296  Female   50            20000          1\n",
       "398  15755018    Male   36            33000          0\n",
       "399  15594041  Female   49            36000          1\n",
       "\n",
       "[400 rows x 5 columns]>"
      ]
     },
     "execution_count": 55,
     "metadata": {},
     "output_type": "execute_result"
    }
   ],
   "source": [
    "data.describe"
   ]
  },
  {
   "cell_type": "code",
   "execution_count": 56,
   "id": "fb52db46",
   "metadata": {},
   "outputs": [
    {
     "data": {
      "text/plain": [
       "(400, 5)"
      ]
     },
     "execution_count": 56,
     "metadata": {},
     "output_type": "execute_result"
    }
   ],
   "source": [
    "data.shape"
   ]
  },
  {
   "cell_type": "code",
   "execution_count": 57,
   "id": "b8432a9c",
   "metadata": {},
   "outputs": [
    {
     "data": {
      "text/html": [
       "<div>\n",
       "<style scoped>\n",
       "    .dataframe tbody tr th:only-of-type {\n",
       "        vertical-align: middle;\n",
       "    }\n",
       "\n",
       "    .dataframe tbody tr th {\n",
       "        vertical-align: top;\n",
       "    }\n",
       "\n",
       "    .dataframe thead th {\n",
       "        text-align: right;\n",
       "    }\n",
       "</style>\n",
       "<table border=\"1\" class=\"dataframe\">\n",
       "  <thead>\n",
       "    <tr style=\"text-align: right;\">\n",
       "      <th></th>\n",
       "      <th>User ID</th>\n",
       "      <th>Gender</th>\n",
       "      <th>Age</th>\n",
       "      <th>EstimatedSalary</th>\n",
       "      <th>Purchased</th>\n",
       "    </tr>\n",
       "  </thead>\n",
       "  <tbody>\n",
       "    <tr>\n",
       "      <th>0</th>\n",
       "      <td>15624510</td>\n",
       "      <td>Male</td>\n",
       "      <td>19</td>\n",
       "      <td>19000</td>\n",
       "      <td>0</td>\n",
       "    </tr>\n",
       "    <tr>\n",
       "      <th>1</th>\n",
       "      <td>15810944</td>\n",
       "      <td>Male</td>\n",
       "      <td>35</td>\n",
       "      <td>20000</td>\n",
       "      <td>0</td>\n",
       "    </tr>\n",
       "    <tr>\n",
       "      <th>2</th>\n",
       "      <td>15668575</td>\n",
       "      <td>Female</td>\n",
       "      <td>26</td>\n",
       "      <td>43000</td>\n",
       "      <td>0</td>\n",
       "    </tr>\n",
       "    <tr>\n",
       "      <th>3</th>\n",
       "      <td>15603246</td>\n",
       "      <td>Female</td>\n",
       "      <td>27</td>\n",
       "      <td>57000</td>\n",
       "      <td>0</td>\n",
       "    </tr>\n",
       "    <tr>\n",
       "      <th>4</th>\n",
       "      <td>15804002</td>\n",
       "      <td>Male</td>\n",
       "      <td>19</td>\n",
       "      <td>76000</td>\n",
       "      <td>0</td>\n",
       "    </tr>\n",
       "  </tbody>\n",
       "</table>\n",
       "</div>"
      ],
      "text/plain": [
       "    User ID  Gender  Age  EstimatedSalary  Purchased\n",
       "0  15624510    Male   19            19000          0\n",
       "1  15810944    Male   35            20000          0\n",
       "2  15668575  Female   26            43000          0\n",
       "3  15603246  Female   27            57000          0\n",
       "4  15804002    Male   19            76000          0"
      ]
     },
     "execution_count": 57,
     "metadata": {},
     "output_type": "execute_result"
    }
   ],
   "source": [
    "data.head()"
   ]
  },
  {
   "cell_type": "code",
   "execution_count": 58,
   "id": "45e62d10",
   "metadata": {},
   "outputs": [
    {
     "data": {
      "text/plain": [
       "0    257\n",
       "1    143\n",
       "Name: Purchased, dtype: int64"
      ]
     },
     "execution_count": 58,
     "metadata": {},
     "output_type": "execute_result"
    }
   ],
   "source": [
    "data[\"Purchased\"].value_counts() # To find the counts of each value in Purchase column. Sice it have only 2 value \"0\" and \"1\" it is shown."
   ]
  },
  {
   "cell_type": "code",
   "execution_count": 59,
   "id": "6f813c51",
   "metadata": {},
   "outputs": [
    {
     "data": {
      "text/plain": [
       "0    0.6425\n",
       "1    0.3575\n",
       "Name: Purchased, dtype: float64"
      ]
     },
     "execution_count": 59,
     "metadata": {},
     "output_type": "execute_result"
    }
   ],
   "source": [
    "data[\"Purchased\"].value_counts(normalize= True) # to find the percentage of ecah value"
   ]
  },
  {
   "cell_type": "code",
   "execution_count": 60,
   "id": "48092d5d",
   "metadata": {},
   "outputs": [
    {
     "data": {
      "text/plain": [
       "User ID            0\n",
       "Gender             0\n",
       "Age                0\n",
       "EstimatedSalary    0\n",
       "Purchased          0\n",
       "dtype: int64"
      ]
     },
     "execution_count": 60,
     "metadata": {},
     "output_type": "execute_result"
    }
   ],
   "source": [
    "data.isna().sum() # to find null value"
   ]
  },
  {
   "cell_type": "markdown",
   "id": "6947efa9",
   "metadata": {},
   "source": [
    "# One hot encording to covert categorical value"
   ]
  },
  {
   "cell_type": "code",
   "execution_count": 61,
   "id": "1c8b1b18",
   "metadata": {},
   "outputs": [
    {
     "data": {
      "text/html": [
       "<div>\n",
       "<style scoped>\n",
       "    .dataframe tbody tr th:only-of-type {\n",
       "        vertical-align: middle;\n",
       "    }\n",
       "\n",
       "    .dataframe tbody tr th {\n",
       "        vertical-align: top;\n",
       "    }\n",
       "\n",
       "    .dataframe thead th {\n",
       "        text-align: right;\n",
       "    }\n",
       "</style>\n",
       "<table border=\"1\" class=\"dataframe\">\n",
       "  <thead>\n",
       "    <tr style=\"text-align: right;\">\n",
       "      <th></th>\n",
       "      <th>User ID</th>\n",
       "      <th>Age</th>\n",
       "      <th>EstimatedSalary</th>\n",
       "      <th>Purchased</th>\n",
       "      <th>Gender_Female</th>\n",
       "      <th>Gender_Male</th>\n",
       "    </tr>\n",
       "  </thead>\n",
       "  <tbody>\n",
       "    <tr>\n",
       "      <th>0</th>\n",
       "      <td>15624510</td>\n",
       "      <td>19</td>\n",
       "      <td>19000</td>\n",
       "      <td>0</td>\n",
       "      <td>0</td>\n",
       "      <td>1</td>\n",
       "    </tr>\n",
       "    <tr>\n",
       "      <th>1</th>\n",
       "      <td>15810944</td>\n",
       "      <td>35</td>\n",
       "      <td>20000</td>\n",
       "      <td>0</td>\n",
       "      <td>0</td>\n",
       "      <td>1</td>\n",
       "    </tr>\n",
       "    <tr>\n",
       "      <th>2</th>\n",
       "      <td>15668575</td>\n",
       "      <td>26</td>\n",
       "      <td>43000</td>\n",
       "      <td>0</td>\n",
       "      <td>1</td>\n",
       "      <td>0</td>\n",
       "    </tr>\n",
       "    <tr>\n",
       "      <th>3</th>\n",
       "      <td>15603246</td>\n",
       "      <td>27</td>\n",
       "      <td>57000</td>\n",
       "      <td>0</td>\n",
       "      <td>1</td>\n",
       "      <td>0</td>\n",
       "    </tr>\n",
       "    <tr>\n",
       "      <th>4</th>\n",
       "      <td>15804002</td>\n",
       "      <td>19</td>\n",
       "      <td>76000</td>\n",
       "      <td>0</td>\n",
       "      <td>0</td>\n",
       "      <td>1</td>\n",
       "    </tr>\n",
       "    <tr>\n",
       "      <th>...</th>\n",
       "      <td>...</td>\n",
       "      <td>...</td>\n",
       "      <td>...</td>\n",
       "      <td>...</td>\n",
       "      <td>...</td>\n",
       "      <td>...</td>\n",
       "    </tr>\n",
       "    <tr>\n",
       "      <th>395</th>\n",
       "      <td>15691863</td>\n",
       "      <td>46</td>\n",
       "      <td>41000</td>\n",
       "      <td>1</td>\n",
       "      <td>1</td>\n",
       "      <td>0</td>\n",
       "    </tr>\n",
       "    <tr>\n",
       "      <th>396</th>\n",
       "      <td>15706071</td>\n",
       "      <td>51</td>\n",
       "      <td>23000</td>\n",
       "      <td>1</td>\n",
       "      <td>0</td>\n",
       "      <td>1</td>\n",
       "    </tr>\n",
       "    <tr>\n",
       "      <th>397</th>\n",
       "      <td>15654296</td>\n",
       "      <td>50</td>\n",
       "      <td>20000</td>\n",
       "      <td>1</td>\n",
       "      <td>1</td>\n",
       "      <td>0</td>\n",
       "    </tr>\n",
       "    <tr>\n",
       "      <th>398</th>\n",
       "      <td>15755018</td>\n",
       "      <td>36</td>\n",
       "      <td>33000</td>\n",
       "      <td>0</td>\n",
       "      <td>0</td>\n",
       "      <td>1</td>\n",
       "    </tr>\n",
       "    <tr>\n",
       "      <th>399</th>\n",
       "      <td>15594041</td>\n",
       "      <td>49</td>\n",
       "      <td>36000</td>\n",
       "      <td>1</td>\n",
       "      <td>1</td>\n",
       "      <td>0</td>\n",
       "    </tr>\n",
       "  </tbody>\n",
       "</table>\n",
       "<p>400 rows × 6 columns</p>\n",
       "</div>"
      ],
      "text/plain": [
       "      User ID  Age  EstimatedSalary  Purchased  Gender_Female  Gender_Male\n",
       "0    15624510   19            19000          0              0            1\n",
       "1    15810944   35            20000          0              0            1\n",
       "2    15668575   26            43000          0              1            0\n",
       "3    15603246   27            57000          0              1            0\n",
       "4    15804002   19            76000          0              0            1\n",
       "..        ...  ...              ...        ...            ...          ...\n",
       "395  15691863   46            41000          1              1            0\n",
       "396  15706071   51            23000          1              0            1\n",
       "397  15654296   50            20000          1              1            0\n",
       "398  15755018   36            33000          0              0            1\n",
       "399  15594041   49            36000          1              1            0\n",
       "\n",
       "[400 rows x 6 columns]"
      ]
     },
     "execution_count": 61,
     "metadata": {},
     "output_type": "execute_result"
    }
   ],
   "source": [
    "data= pd.get_dummies(data)\n",
    "data"
   ]
  },
  {
   "cell_type": "markdown",
   "id": "d6826e34",
   "metadata": {},
   "source": [
    "categorical value \" gender \" is split into encorded in numerical terms"
   ]
  },
  {
   "cell_type": "markdown",
   "id": "fa20dd65",
   "metadata": {},
   "source": [
    "# Splitting data set into feature and target \n"
   ]
  },
  {
   "cell_type": "markdown",
   "id": "e984434a",
   "metadata": {},
   "source": [
    "in this case target is \"Purchased\" column so \"Purchased\" column is taken as y and all other column except user and y ,\"Purchased\" is  taken as x"
   ]
  },
  {
   "cell_type": "code",
   "execution_count": 62,
   "id": "4f3f2295",
   "metadata": {},
   "outputs": [],
   "source": [
    "y=data[\"Purchased\"]\n",
    "X=data.drop([\"Purchased\",\"User ID\"], axis =1) # since user id have no relevence in data it is drooped"
   ]
  },
  {
   "cell_type": "code",
   "execution_count": 63,
   "id": "2aee392d",
   "metadata": {},
   "outputs": [],
   "source": [
    "# Splitting the data set to training set and testing set\n",
    "\n",
    "from sklearn.model_selection import train_test_split\n",
    "X_train, X_test,y_train, y_test= train_test_split(X,y,random_state=42,test_size=.2)"
   ]
  },
  {
   "cell_type": "code",
   "execution_count": 64,
   "id": "2330bb22",
   "metadata": {},
   "outputs": [
    {
     "data": {
      "text/plain": [
       "(400,)"
      ]
     },
     "execution_count": 64,
     "metadata": {},
     "output_type": "execute_result"
    }
   ],
   "source": [
    "X_train.shape\n",
    "y.shape"
   ]
  },
  {
   "cell_type": "code",
   "execution_count": 65,
   "id": "a89823a4",
   "metadata": {},
   "outputs": [],
   "source": [
    "# Create logical regression model"
   ]
  },
  {
   "cell_type": "code",
   "execution_count": 66,
   "id": "566ad013",
   "metadata": {},
   "outputs": [],
   "source": [
    "from sklearn.linear_model import LogisticRegression # import logical regression from skl library and create the model\n",
    "logit_model = LogisticRegression()          # to create an instance of the model\n",
    "logit_model.fit(X_train, y_train) # to fit the regression model\n",
    "y_prediction= logit_model.predict(X_test) # to predict y value\n"
   ]
  },
  {
   "cell_type": "markdown",
   "id": "73ecc60d",
   "metadata": {},
   "source": [
    "Then the perfection of the model is found out using mse values and r square value"
   ]
  },
  {
   "cell_type": "code",
   "execution_count": 67,
   "id": "74f1a86f",
   "metadata": {},
   "outputs": [
    {
     "data": {
      "text/plain": [
       "(80,)"
      ]
     },
     "execution_count": 67,
     "metadata": {},
     "output_type": "execute_result"
    }
   ],
   "source": [
    "y_prediction.shape\n"
   ]
  },
  {
   "cell_type": "code",
   "execution_count": 68,
   "id": "b1a556a9",
   "metadata": {},
   "outputs": [],
   "source": [
    "from sklearn.metrics import confusion_matrix, precision_score, accuracy_score, recall_score,f1_score"
   ]
  },
  {
   "cell_type": "code",
   "execution_count": 69,
   "id": "85ba56be",
   "metadata": {},
   "outputs": [
    {
     "name": "stdout",
     "output_type": "stream",
     "text": [
      "Accuracy is  0.65\n",
      "Precision is  0.0\n",
      "Recall is  0.0\n",
      "F1 score is  0.0\n"
     ]
    },
    {
     "name": "stderr",
     "output_type": "stream",
     "text": [
      "C:\\Users\\acer\\anaconda3\\lib\\site-packages\\sklearn\\metrics\\_classification.py:1245: UndefinedMetricWarning: Precision is ill-defined and being set to 0.0 due to no predicted samples. Use `zero_division` parameter to control this behavior.\n",
      "  _warn_prf(average, modifier, msg_start, len(result))\n"
     ]
    }
   ],
   "source": [
    "print(\"Accuracy is \",accuracy_score(y_test, y_prediction))\n",
    "print(\"Precision is \",precision_score(y_test, y_prediction))\n",
    "print(\"Recall is \",recall_score(y_test, y_prediction))\n",
    "print(\"F1 score is \",f1_score(y_test, y_prediction))"
   ]
  },
  {
   "cell_type": "code",
   "execution_count": 70,
   "id": "094ee27c",
   "metadata": {},
   "outputs": [
    {
     "data": {
      "text/plain": [
       "array([[52,  0],\n",
       "       [28,  0]], dtype=int64)"
      ]
     },
     "execution_count": 70,
     "metadata": {},
     "output_type": "execute_result"
    }
   ],
   "source": [
    "confusion_matrix(y_test, y_prediction)"
   ]
  },
  {
   "cell_type": "markdown",
   "id": "c4640f06",
   "metadata": {},
   "source": [
    "Here total error value is 28 (please refer confusion matrix in note book)"
   ]
  },
  {
   "cell_type": "markdown",
   "id": "f2f81a15",
   "metadata": {},
   "source": [
    "#                              ********************KNN********************"
   ]
  },
  {
   "cell_type": "code",
   "execution_count": 71,
   "id": "fdf7a71b",
   "metadata": {},
   "outputs": [],
   "source": [
    "from sklearn.neighbors import KNeighborsClassifier # Improt library"
   ]
  },
  {
   "cell_type": "markdown",
   "id": "a04d25cd",
   "metadata": {},
   "source": [
    "Find the optimun k value . For this we need to create the model a varied k value . Step to find optimum k values is given below"
   ]
  },
  {
   "cell_type": "code",
   "execution_count": 72,
   "id": "eae7e66c",
   "metadata": {},
   "outputs": [],
   "source": [
    "acc_value=[] # Create an emply list\n",
    "neighbors=np.arange(3,15) # taking values form 3 to 15 to a list \"neighbors\"\n",
    "\n",
    "for k in neighbors: # Create a loop to create kNN for each K value\n",
    "    classifier= KNeighborsClassifier(n_neighbors=k,metric=\"minkowski\") # Inside the bracket we need to specify some parameter\n",
    "    #metic is the method used to measure the distance , n_neighbors mean number of k value, here it is \"k\"\n",
    "    classifier.fit(X_train,y_train) # Create the model\n",
    "    y_pred=classifier.predict(X_test) # Predict the  model NOW KNN IS CREATED \n",
    "    acc=accuracy_score(y_test, y_pred) #accuracy values is taken to a variable \"acc\"\n",
    "    acc_value.append(acc) # these accuracy values is appened to the list \n",
    "    "
   ]
  },
  {
   "cell_type": "code",
   "execution_count": 73,
   "id": "987908b4",
   "metadata": {},
   "outputs": [
    {
     "data": {
      "text/plain": [
       "[0.8,\n",
       " 0.8,\n",
       " 0.825,\n",
       " 0.775,\n",
       " 0.8125,\n",
       " 0.775,\n",
       " 0.7875,\n",
       " 0.775,\n",
       " 0.8,\n",
       " 0.775,\n",
       " 0.75,\n",
       " 0.7625]"
      ]
     },
     "execution_count": 73,
     "metadata": {},
     "output_type": "execute_result"
    }
   ],
   "source": [
    "acc_value "
   ]
  },
  {
   "cell_type": "markdown",
   "id": "2898c32f",
   "metadata": {},
   "source": [
    "These are the accuracy values obtained for different k values . Out of this maximum accuracy is noted . Here it is 82.5%. We need to find for which k value this accuracy is obtained . For this we need to plot the graph ok k values and Accuracy value"
   ]
  },
  {
   "cell_type": "code",
   "execution_count": 74,
   "id": "34c32856",
   "metadata": {},
   "outputs": [
    {
     "data": {
      "text/plain": [
       "Text(0, 0.5, 'Accuracy')"
      ]
     },
     "execution_count": 74,
     "metadata": {},
     "output_type": "execute_result"
    },
    {
     "data": {
      "image/png": "[encoded data removed]",
      "text/plain": [
       "<Figure size 432x288 with 1 Axes>"
      ]
     },
     "metadata": {
      "needs_background": "light"
     },
     "output_type": "display_data"
    }
   ],
   "source": [
    "plt.plot(neighbors,acc_value , \"*\")\n",
    "plt.xlabel(\"k Values\")\n",
    "plt.ylabel(\"Accuracy\")"
   ]
  },
  {
   "cell_type": "markdown",
   "id": "ae93105f",
   "metadata": {},
   "source": [
    "Here we can see that maximum accuracy 82.5 is obtained for k value 5. And noe we create the model with k value 5"
   ]
  },
  {
   "cell_type": "code",
   "execution_count": 75,
   "id": "eca4b405",
   "metadata": {},
   "outputs": [],
   "source": [
    "classifier= KNeighborsClassifier(n_neighbors=5,metric=\"minkowski\")\n",
    "classifier.fit(X_train,y_train) # Create the model\n",
    "y_pred=classifier.predict(X_test) # Predict the  model NOW KNN IS CREATED "
   ]
  },
  {
   "cell_type": "code",
   "execution_count": 76,
   "id": "cbb873d4",
   "metadata": {},
   "outputs": [
    {
     "name": "stdout",
     "output_type": "stream",
     "text": [
      "Accuracy is  0.825\n",
      "Precision is  0.7692307692307693\n",
      "Recall is  0.7142857142857143\n",
      "F1 score is  0.7407407407407408\n"
     ]
    }
   ],
   "source": [
    "#Then the efficieny of the model is checked\n",
    "print(\"Accuracy is \",accuracy_score(y_test, y_pred))\n",
    "print(\"Precision is \",precision_score(y_test, y_pred))\n",
    "print(\"Recall is \",recall_score(y_test, y_pred))\n",
    "print(\"F1 score is \",f1_score(y_test, y_pred))"
   ]
  },
  {
   "cell_type": "code",
   "execution_count": 77,
   "id": "6854e63b",
   "metadata": {},
   "outputs": [
    {
     "data": {
      "text/plain": [
       "array([[46,  6],\n",
       "       [ 8, 20]], dtype=int64)"
      ]
     },
     "execution_count": 77,
     "metadata": {},
     "output_type": "execute_result"
    }
   ],
   "source": [
    "confusion_matrix(y_test, y_pred)"
   ]
  },
  {
   "cell_type": "markdown",
   "id": "9d3b0f21",
   "metadata": {},
   "source": [
    "Here total error value is 14 (please refer confusion matrix in note book)"
   ]
  },
  {
   "cell_type": "markdown",
   "id": "d8e89ff5",
   "metadata": {},
   "source": [
    "We can see that the accuracy of the model is incereased and error value is decreased than logical model"
   ]
  },
  {
   "cell_type": "code",
   "execution_count": 78,
   "id": "0ad2ef4a",
   "metadata": {},
   "outputs": [
    {
     "data": {
      "text/html": [
       "<div>\n",
       "<style scoped>\n",
       "    .dataframe tbody tr th:only-of-type {\n",
       "        vertical-align: middle;\n",
       "    }\n",
       "\n",
       "    .dataframe tbody tr th {\n",
       "        vertical-align: top;\n",
       "    }\n",
       "\n",
       "    .dataframe thead th {\n",
       "        text-align: right;\n",
       "    }\n",
       "</style>\n",
       "<table border=\"1\" class=\"dataframe\">\n",
       "  <thead>\n",
       "    <tr style=\"text-align: right;\">\n",
       "      <th></th>\n",
       "      <th>User ID</th>\n",
       "      <th>Age</th>\n",
       "      <th>EstimatedSalary</th>\n",
       "      <th>Purchased</th>\n",
       "      <th>Gender_Female</th>\n",
       "      <th>Gender_Male</th>\n",
       "    </tr>\n",
       "  </thead>\n",
       "  <tbody>\n",
       "    <tr>\n",
       "      <th>count</th>\n",
       "      <td>4.000000e+02</td>\n",
       "      <td>400.000000</td>\n",
       "      <td>400.000000</td>\n",
       "      <td>400.000000</td>\n",
       "      <td>400.000000</td>\n",
       "      <td>400.000000</td>\n",
       "    </tr>\n",
       "    <tr>\n",
       "      <th>mean</th>\n",
       "      <td>1.569154e+07</td>\n",
       "      <td>37.655000</td>\n",
       "      <td>69742.500000</td>\n",
       "      <td>0.357500</td>\n",
       "      <td>0.510000</td>\n",
       "      <td>0.490000</td>\n",
       "    </tr>\n",
       "    <tr>\n",
       "      <th>std</th>\n",
       "      <td>7.165832e+04</td>\n",
       "      <td>10.482877</td>\n",
       "      <td>34096.960282</td>\n",
       "      <td>0.479864</td>\n",
       "      <td>0.500526</td>\n",
       "      <td>0.500526</td>\n",
       "    </tr>\n",
       "    <tr>\n",
       "      <th>min</th>\n",
       "      <td>1.556669e+07</td>\n",
       "      <td>18.000000</td>\n",
       "      <td>15000.000000</td>\n",
       "      <td>0.000000</td>\n",
       "      <td>0.000000</td>\n",
       "      <td>0.000000</td>\n",
       "    </tr>\n",
       "    <tr>\n",
       "      <th>25%</th>\n",
       "      <td>1.562676e+07</td>\n",
       "      <td>29.750000</td>\n",
       "      <td>43000.000000</td>\n",
       "      <td>0.000000</td>\n",
       "      <td>0.000000</td>\n",
       "      <td>0.000000</td>\n",
       "    </tr>\n",
       "    <tr>\n",
       "      <th>50%</th>\n",
       "      <td>1.569434e+07</td>\n",
       "      <td>37.000000</td>\n",
       "      <td>70000.000000</td>\n",
       "      <td>0.000000</td>\n",
       "      <td>1.000000</td>\n",
       "      <td>0.000000</td>\n",
       "    </tr>\n",
       "    <tr>\n",
       "      <th>75%</th>\n",
       "      <td>1.575036e+07</td>\n",
       "      <td>46.000000</td>\n",
       "      <td>88000.000000</td>\n",
       "      <td>1.000000</td>\n",
       "      <td>1.000000</td>\n",
       "      <td>1.000000</td>\n",
       "    </tr>\n",
       "    <tr>\n",
       "      <th>max</th>\n",
       "      <td>1.581524e+07</td>\n",
       "      <td>60.000000</td>\n",
       "      <td>150000.000000</td>\n",
       "      <td>1.000000</td>\n",
       "      <td>1.000000</td>\n",
       "      <td>1.000000</td>\n",
       "    </tr>\n",
       "  </tbody>\n",
       "</table>\n",
       "</div>"
      ],
      "text/plain": [
       "            User ID         Age  EstimatedSalary   Purchased  Gender_Female  \\\n",
       "count  4.000000e+02  400.000000       400.000000  400.000000     400.000000   \n",
       "mean   1.569154e+07   37.655000     69742.500000    0.357500       0.510000   \n",
       "std    7.165832e+04   10.482877     34096.960282    0.479864       0.500526   \n",
       "min    1.556669e+07   18.000000     15000.000000    0.000000       0.000000   \n",
       "25%    1.562676e+07   29.750000     43000.000000    0.000000       0.000000   \n",
       "50%    1.569434e+07   37.000000     70000.000000    0.000000       1.000000   \n",
       "75%    1.575036e+07   46.000000     88000.000000    1.000000       1.000000   \n",
       "max    1.581524e+07   60.000000    150000.000000    1.000000       1.000000   \n",
       "\n",
       "       Gender_Male  \n",
       "count   400.000000  \n",
       "mean      0.490000  \n",
       "std       0.500526  \n",
       "min       0.000000  \n",
       "25%       0.000000  \n",
       "50%       0.000000  \n",
       "75%       1.000000  \n",
       "max       1.000000  "
      ]
     },
     "execution_count": 78,
     "metadata": {},
     "output_type": "execute_result"
    }
   ],
   "source": [
    "data.describe()"
   ]
  },
  {
   "cell_type": "markdown",
   "id": "b2152619",
   "metadata": {},
   "source": [
    "We can do standered scaling is done and check if the model efficency is increased"
   ]
  },
  {
   "cell_type": "markdown",
   "id": "bcb129a1",
   "metadata": {},
   "source": [
    "# Logical Regression after standered Scaling"
   ]
  },
  {
   "cell_type": "code",
   "execution_count": 79,
   "id": "b01896a1",
   "metadata": {},
   "outputs": [],
   "source": [
    "from sklearn.preprocessing import StandardScaler   # Standerdisation of the model\n",
    "scalar= StandardScaler()\n",
    "x_train=scalar.fit_transform(X_train)\n",
    "x_test=scalar.fit_transform(X_test)"
   ]
  },
  {
   "cell_type": "code",
   "execution_count": 80,
   "id": "edbdd5a3",
   "metadata": {},
   "outputs": [
    {
     "data": {
      "text/html": [
       "<div>\n",
       "<style scoped>\n",
       "    .dataframe tbody tr th:only-of-type {\n",
       "        vertical-align: middle;\n",
       "    }\n",
       "\n",
       "    .dataframe tbody tr th {\n",
       "        vertical-align: top;\n",
       "    }\n",
       "\n",
       "    .dataframe thead th {\n",
       "        text-align: right;\n",
       "    }\n",
       "</style>\n",
       "<table border=\"1\" class=\"dataframe\">\n",
       "  <thead>\n",
       "    <tr style=\"text-align: right;\">\n",
       "      <th></th>\n",
       "      <th>Age</th>\n",
       "      <th>EstimatedSalary</th>\n",
       "      <th>Gender_Female</th>\n",
       "      <th>Gender_Male</th>\n",
       "    </tr>\n",
       "  </thead>\n",
       "  <tbody>\n",
       "    <tr>\n",
       "      <th>3</th>\n",
       "      <td>27</td>\n",
       "      <td>57000</td>\n",
       "      <td>1</td>\n",
       "      <td>0</td>\n",
       "    </tr>\n",
       "    <tr>\n",
       "      <th>18</th>\n",
       "      <td>46</td>\n",
       "      <td>28000</td>\n",
       "      <td>0</td>\n",
       "      <td>1</td>\n",
       "    </tr>\n",
       "    <tr>\n",
       "      <th>202</th>\n",
       "      <td>39</td>\n",
       "      <td>134000</td>\n",
       "      <td>1</td>\n",
       "      <td>0</td>\n",
       "    </tr>\n",
       "    <tr>\n",
       "      <th>250</th>\n",
       "      <td>44</td>\n",
       "      <td>39000</td>\n",
       "      <td>1</td>\n",
       "      <td>0</td>\n",
       "    </tr>\n",
       "    <tr>\n",
       "      <th>274</th>\n",
       "      <td>57</td>\n",
       "      <td>26000</td>\n",
       "      <td>1</td>\n",
       "      <td>0</td>\n",
       "    </tr>\n",
       "    <tr>\n",
       "      <th>...</th>\n",
       "      <td>...</td>\n",
       "      <td>...</td>\n",
       "      <td>...</td>\n",
       "      <td>...</td>\n",
       "    </tr>\n",
       "    <tr>\n",
       "      <th>71</th>\n",
       "      <td>24</td>\n",
       "      <td>27000</td>\n",
       "      <td>1</td>\n",
       "      <td>0</td>\n",
       "    </tr>\n",
       "    <tr>\n",
       "      <th>106</th>\n",
       "      <td>26</td>\n",
       "      <td>35000</td>\n",
       "      <td>1</td>\n",
       "      <td>0</td>\n",
       "    </tr>\n",
       "    <tr>\n",
       "      <th>270</th>\n",
       "      <td>43</td>\n",
       "      <td>133000</td>\n",
       "      <td>1</td>\n",
       "      <td>0</td>\n",
       "    </tr>\n",
       "    <tr>\n",
       "      <th>348</th>\n",
       "      <td>39</td>\n",
       "      <td>77000</td>\n",
       "      <td>0</td>\n",
       "      <td>1</td>\n",
       "    </tr>\n",
       "    <tr>\n",
       "      <th>102</th>\n",
       "      <td>32</td>\n",
       "      <td>86000</td>\n",
       "      <td>1</td>\n",
       "      <td>0</td>\n",
       "    </tr>\n",
       "  </tbody>\n",
       "</table>\n",
       "<p>320 rows × 4 columns</p>\n",
       "</div>"
      ],
      "text/plain": [
       "     Age  EstimatedSalary  Gender_Female  Gender_Male\n",
       "3     27            57000              1            0\n",
       "18    46            28000              0            1\n",
       "202   39           134000              1            0\n",
       "250   44            39000              1            0\n",
       "274   57            26000              1            0\n",
       "..   ...              ...            ...          ...\n",
       "71    24            27000              1            0\n",
       "106   26            35000              1            0\n",
       "270   43           133000              1            0\n",
       "348   39            77000              0            1\n",
       "102   32            86000              1            0\n",
       "\n",
       "[320 rows x 4 columns]"
      ]
     },
     "execution_count": 80,
     "metadata": {},
     "output_type": "execute_result"
    }
   ],
   "source": [
    "X_train"
   ]
  },
  {
   "cell_type": "code",
   "execution_count": 29,
   "id": "5bb642c9",
   "metadata": {},
   "outputs": [
    {
     "data": {
      "text/plain": [
       "array([[-1.06675246, -0.38634438,  1.        , -1.        ],\n",
       "       [ 0.79753468, -1.22993871, -1.        ,  1.        ],\n",
       "       [ 0.11069205,  1.853544  ,  1.        , -1.        ],\n",
       "       ...,\n",
       "       [ 0.50317355,  1.82445454,  1.        , -1.        ],\n",
       "       [ 0.11069205,  0.19544481, -1.        ,  1.        ],\n",
       "       [-0.57615058,  0.45724994,  1.        , -1.        ]])"
      ]
     },
     "execution_count": 29,
     "metadata": {},
     "output_type": "execute_result"
    }
   ],
   "source": [
    "x_train"
   ]
  },
  {
   "cell_type": "markdown",
   "id": "3c3fa786",
   "metadata": {},
   "source": [
    "Now we can see that x_train and x_test are having standeredised features"
   ]
  },
  {
   "cell_type": "code",
   "execution_count": 81,
   "id": "2fc7a242",
   "metadata": {},
   "outputs": [],
   "source": [
    "logit_model = LogisticRegression()          # to create an instance of the model\n",
    "logit_model.fit(x_train, y_train) # to fit the regression model\n",
    "y_pred= logit_model.predict(x_test) # to predict y value   #x_train and x_test are standerdised x whereas X_train and X_test are non standersided)"
   ]
  },
  {
   "cell_type": "code",
   "execution_count": null,
   "id": "9d846d27",
   "metadata": {},
   "outputs": [],
   "source": []
  },
  {
   "cell_type": "code",
   "execution_count": 51,
   "id": "e161057c",
   "metadata": {},
   "outputs": [
    {
     "name": "stdout",
     "output_type": "stream",
     "text": [
      "Accuracy is  0.875\n",
      "Precision is  0.875\n",
      "Recall is  0.75\n",
      "F1 score is  0.8076923076923077\n"
     ]
    }
   ],
   "source": [
    "#Then the efficieny of the model is checked\n",
    "print(\"Accuracy is \",accuracy_score(y_test, y_pred))\n",
    "print(\"Precision is \",precision_score(y_test, y_pred))\n",
    "print(\"Recall is \",recall_score(y_test, y_pred))\n",
    "print(\"F1 score is \",f1_score(y_test, y_pred))"
   ]
  },
  {
   "cell_type": "code",
   "execution_count": 82,
   "id": "34d792b1",
   "metadata": {},
   "outputs": [
    {
     "data": {
      "text/plain": [
       "array([[49,  3],\n",
       "       [ 7, 21]], dtype=int64)"
      ]
     },
     "execution_count": 82,
     "metadata": {},
     "output_type": "execute_result"
    }
   ],
   "source": [
    "confusion_matrix(y_test, y_pred)"
   ]
  },
  {
   "cell_type": "markdown",
   "id": "47a1964a",
   "metadata": {},
   "source": [
    "We can see that the efficency of the model is increased after doing scaling. We can see error values is also decrased to 10"
   ]
  },
  {
   "cell_type": "markdown",
   "id": "b99422b4",
   "metadata": {},
   "source": [
    "# KNN after standered Scaling"
   ]
  },
  {
   "cell_type": "code",
   "execution_count": 83,
   "id": "9b08674e",
   "metadata": {},
   "outputs": [],
   "source": [
    "acc_value=[] # Create an emply list\n",
    "neighbors=np.arange(3,15) # taking values form 3 to 15 to a list \"neighbors\"\n",
    "\n",
    "for k in neighbors: # Create a loop to create kNN for each K value\n",
    "    classifier= KNeighborsClassifier(n_neighbors=k,metric=\"minkowski\") # Inside the bracket we need to specify some parameter\n",
    "    #metic is the method used to measure the distance , n_neighbors mean number of k value, here it is \"k\"\n",
    "    classifier.fit(x_train,y_train) # Create the model\n",
    "    y_pred=classifier.predict(x_test) # Predict the  model NOW KNN IS CREATED \n",
    "    acc=accuracy_score(y_test, y_pred) #accuracy values is taken to a variable \"acc\"\n",
    "    acc_value.append(acc) # these accuracy values is appened to the list \n",
    "    "
   ]
  },
  {
   "cell_type": "code",
   "execution_count": 84,
   "id": "097a134d",
   "metadata": {},
   "outputs": [
    {
     "data": {
      "text/plain": [
       "Text(0, 0.5, 'Accuracy')"
      ]
     },
     "execution_count": 84,
     "metadata": {},
     "output_type": "execute_result"
    },
    {
     "data": {
      "image/png": "[encoded data removed]",
      "text/plain": [
       "<Figure size 432x288 with 1 Axes>"
      ]
     },
     "metadata": {
      "needs_background": "light"
     },
     "output_type": "display_data"
    }
   ],
   "source": [
    "plt.plot(neighbors,acc_value , \"*\")\n",
    "plt.xlabel(\"k Values\")\n",
    "plt.ylabel(\"Accuracy\")"
   ]
  },
  {
   "cell_type": "markdown",
   "id": "29cf97ad",
   "metadata": {},
   "source": [
    "Same accuracy is obtained for all k values"
   ]
  },
  {
   "cell_type": "code",
   "execution_count": 85,
   "id": "2260a4a9",
   "metadata": {},
   "outputs": [],
   "source": [
    "classifier= KNeighborsClassifier(n_neighbors=5,metric=\"minkowski\") # Inside the bracket we need to specify some parameter\n",
    "#metic is the method used to measure the distance , n_neighbors mean number of k value, here it is \"5\" obtained for maximum accuracy\n",
    "classifier.fit(x_train,y_train) # Create the model\n",
    "y_pred=classifier.predict(x_test) # Predict the  model NOW KNN IS CREATED "
   ]
  },
  {
   "cell_type": "code",
   "execution_count": 86,
   "id": "39b5954f",
   "metadata": {},
   "outputs": [
    {
     "name": "stdout",
     "output_type": "stream",
     "text": [
      "Accuracy is  0.925\n",
      "Precision is  0.8666666666666667\n",
      "Recall is  0.9285714285714286\n",
      "F1 score is  0.896551724137931\n"
     ]
    }
   ],
   "source": [
    "#Then the efficieny of the model is checked\n",
    "print(\"Accuracy is \",accuracy_score(y_test, y_pred))\n",
    "print(\"Precision is \",precision_score(y_test, y_pred))\n",
    "print(\"Recall is \",recall_score(y_test, y_pred))\n",
    "print(\"F1 score is \",f1_score(y_test, y_pred))\n"
   ]
  },
  {
   "cell_type": "code",
   "execution_count": 87,
   "id": "3650fd2b",
   "metadata": {},
   "outputs": [
    {
     "data": {
      "text/plain": [
       "array([[48,  4],\n",
       "       [ 2, 26]], dtype=int64)"
      ]
     },
     "execution_count": 87,
     "metadata": {},
     "output_type": "execute_result"
    }
   ],
   "source": [
    "confusion_matrix(y_test, y_pred)"
   ]
  },
  {
   "cell_type": "markdown",
   "id": "32e34b77",
   "metadata": {},
   "source": [
    "We can see that the efficency of the model is increased after doing scaling. We can see error values is also decrased to 10"
   ]
  },
  {
   "cell_type": "markdown",
   "id": "b4686814",
   "metadata": {},
   "source": [
    "# Decision Tree Algorith "
   ]
  },
  {
   "cell_type": "code",
   "execution_count": 88,
   "id": "b51bf6a6",
   "metadata": {},
   "outputs": [],
   "source": [
    "from sklearn.tree import DecisionTreeClassifier # Import library function\n",
    "dt_model= DecisionTreeClassifier()\n",
    "dt_model.fit(X_train, y_train)\n",
    "y_pred=dt_model.predict(X_test)"
   ]
  },
  {
   "cell_type": "code",
   "execution_count": 89,
   "id": "b0845f5e",
   "metadata": {},
   "outputs": [
    {
     "name": "stdout",
     "output_type": "stream",
     "text": [
      "Accuracy is  0.8375\n",
      "Precision is  0.8\n",
      "Recall is  0.7142857142857143\n",
      "F1 score is  0.7547169811320756\n"
     ]
    }
   ],
   "source": [
    "#Then the efficieny of the model is checked\n",
    "print(\"Accuracy is \",accuracy_score(y_test, y_pred))\n",
    "print(\"Precision is \",precision_score(y_test, y_pred))\n",
    "print(\"Recall is \",recall_score(y_test, y_pred))\n",
    "print(\"F1 score is \",f1_score(y_test, y_pred))"
   ]
  },
  {
   "cell_type": "code",
   "execution_count": 90,
   "id": "7a44663f",
   "metadata": {},
   "outputs": [
    {
     "data": {
      "text/plain": [
       "array([[47,  5],\n",
       "       [ 8, 20]], dtype=int64)"
      ]
     },
     "execution_count": 90,
     "metadata": {},
     "output_type": "execute_result"
    }
   ],
   "source": [
    "confusion_matrix(y_test, y_pred)"
   ]
  },
  {
   "cell_type": "code",
   "execution_count": null,
   "id": "1f7efed6",
   "metadata": {},
   "outputs": [],
   "source": []
  },
  {
   "cell_type": "markdown",
   "id": "ce939eab",
   "metadata": {},
   "source": [
    "# SVM Algorith"
   ]
  },
  {
   "cell_type": "markdown",
   "id": "7204dd16",
   "metadata": {},
   "source": [
    "Based on Keranal there are three different types of SVM\n"
   ]
  },
  {
   "cell_type": "markdown",
   "id": "13d7963f",
   "metadata": {},
   "source": [
    "# Linear SVM"
   ]
  },
  {
   "cell_type": "code",
   "execution_count": 91,
   "id": "0b82497c",
   "metadata": {},
   "outputs": [
    {
     "data": {
      "text/plain": [
       "SVC(kernel='linear')"
      ]
     },
     "execution_count": 91,
     "metadata": {},
     "output_type": "execute_result"
    }
   ],
   "source": [
    "from sklearn.svm import SVC  # import  support vector classifier (SVC)\n",
    "linear_svm= SVC(kernel=\"linear\") #instance is created but argument is kernel= \"linear\")\n",
    "linear_svm.fit(X_train, y_train) # Training the model "
   ]
  },
  {
   "cell_type": "code",
   "execution_count": 92,
   "id": "27f008af",
   "metadata": {},
   "outputs": [],
   "source": [
    "y_pred=linear_svm.predict(X_test)"
   ]
  },
  {
   "cell_type": "code",
   "execution_count": 93,
   "id": "beff4d7b",
   "metadata": {},
   "outputs": [
    {
     "name": "stdout",
     "output_type": "stream",
     "text": [
      "Accuracy is  0.8375\n",
      "Precision is  0.8260869565217391\n",
      "Recall is  0.6785714285714286\n",
      "F1 score is  0.7450980392156864\n"
     ]
    }
   ],
   "source": [
    "#Then the efficieny of the model is checked\n",
    "print(\"Accuracy is \",accuracy_score(y_test, y_pred))\n",
    "print(\"Precision is \",precision_score(y_test, y_pred))\n",
    "print(\"Recall is \",recall_score(y_test, y_pred))\n",
    "print(\"F1 score is \",f1_score(y_test, y_pred))"
   ]
  },
  {
   "cell_type": "code",
   "execution_count": 94,
   "id": "8078d3d4",
   "metadata": {},
   "outputs": [
    {
     "data": {
      "text/plain": [
       "array([[48,  4],\n",
       "       [ 9, 19]], dtype=int64)"
      ]
     },
     "execution_count": 94,
     "metadata": {},
     "output_type": "execute_result"
    }
   ],
   "source": [
    "confusion_matrix(y_test, y_pred)"
   ]
  },
  {
   "cell_type": "markdown",
   "id": "9ff43efa",
   "metadata": {},
   "source": [
    "Here the exhibition time is more because of the difference in scales of features of slaray and age . Salary is in the range from 10000 and above whereas age is in the range from 20 to 70. Scaling can be done to overcome this problem"
   ]
  },
  {
   "cell_type": "markdown",
   "id": "2e7b4e34",
   "metadata": {},
   "source": [
    "# Standerdising the feature"
   ]
  },
  {
   "cell_type": "markdown",
   "id": "c2da2d2b",
   "metadata": {},
   "source": [
    "Here we use x_train and x_test and not X_train and X_test because small x is having the standerdiesed set"
   ]
  },
  {
   "cell_type": "code",
   "execution_count": 100,
   "id": "a43f0183",
   "metadata": {},
   "outputs": [
    {
     "data": {
      "text/plain": [
       "SVC(kernel='linear')"
      ]
     },
     "execution_count": 100,
     "metadata": {},
     "output_type": "execute_result"
    }
   ],
   "source": [
    "from sklearn.svm import SVC  # import  support vector classifier (SVC)\n",
    "linear_svm= SVC(kernel=\"linear\") #instance is created but argument is kernel= \"linear\")\n",
    "linear_svm.fit(x_train, y_train) # Training the model "
   ]
  },
  {
   "cell_type": "code",
   "execution_count": 99,
   "id": "b32ee574",
   "metadata": {},
   "outputs": [],
   "source": [
    "y_pred=linear_svm.predict(x_test)"
   ]
  },
  {
   "cell_type": "code",
   "execution_count": 98,
   "id": "f3c1bbe0",
   "metadata": {},
   "outputs": [
    {
     "name": "stdout",
     "output_type": "stream",
     "text": [
      "Accuracy is  0.85\n",
      "Precision is  0.8333333333333334\n",
      "Recall is  0.7142857142857143\n",
      "F1 score is  0.7692307692307692\n"
     ]
    }
   ],
   "source": [
    "#Then the efficieny of the model is checked\n",
    "print(\"Accuracy is \",accuracy_score(y_test, y_pred))\n",
    "print(\"Precision is \",precision_score(y_test, y_pred))\n",
    "print(\"Recall is \",recall_score(y_test, y_pred))\n",
    "print(\"F1 score is \",f1_score(y_test, y_pred))"
   ]
  },
  {
   "cell_type": "code",
   "execution_count": 101,
   "id": "38c096a9",
   "metadata": {},
   "outputs": [
    {
     "data": {
      "text/plain": [
       "array([[48,  4],\n",
       "       [ 8, 20]], dtype=int64)"
      ]
     },
     "execution_count": 101,
     "metadata": {},
     "output_type": "execute_result"
    }
   ],
   "source": [
    "confusion_matrix(y_test, y_pred)"
   ]
  },
  {
   "cell_type": "markdown",
   "id": "a6676cf2",
   "metadata": {},
   "source": [
    "We can see that the there is a reduction in false value in  confusion matrix"
   ]
  },
  {
   "cell_type": "markdown",
   "id": "52e820e1",
   "metadata": {},
   "source": [
    "# Polynomial SVM"
   ]
  },
  {
   "cell_type": "code",
   "execution_count": 102,
   "id": "d883a61f",
   "metadata": {},
   "outputs": [
    {
     "data": {
      "text/plain": [
       "SVC(kernel='poly')"
      ]
     },
     "execution_count": 102,
     "metadata": {},
     "output_type": "execute_result"
    }
   ],
   "source": [
    "from sklearn.svm import SVC  # import  support vector classifier (SVC)\n",
    "poly_svm= SVC(kernel=\"poly\", degree= 3) #instance is created but argument is kernel= \"poly\" and degree \"3\". We can choose any degree)\n",
    "poly_svm.fit(X_train, y_train) # Training the model "
   ]
  },
  {
   "cell_type": "code",
   "execution_count": 103,
   "id": "b7fb71f2",
   "metadata": {},
   "outputs": [],
   "source": [
    "y_pred=poly_svm.predict(x_test)"
   ]
  },
  {
   "cell_type": "code",
   "execution_count": 104,
   "id": "45964303",
   "metadata": {},
   "outputs": [
    {
     "name": "stdout",
     "output_type": "stream",
     "text": [
      "Accuracy is  0.65\n",
      "Precision is  0.0\n",
      "Recall is  0.0\n",
      "F1 score is  0.0\n"
     ]
    },
    {
     "name": "stderr",
     "output_type": "stream",
     "text": [
      "C:\\Users\\acer\\anaconda3\\lib\\site-packages\\sklearn\\metrics\\_classification.py:1245: UndefinedMetricWarning: Precision is ill-defined and being set to 0.0 due to no predicted samples. Use `zero_division` parameter to control this behavior.\n",
      "  _warn_prf(average, modifier, msg_start, len(result))\n"
     ]
    }
   ],
   "source": [
    "#Then the efficieny of the model is checked\n",
    "print(\"Accuracy is \",accuracy_score(y_test, y_pred))\n",
    "print(\"Precision is \",precision_score(y_test, y_pred))\n",
    "print(\"Recall is \",recall_score(y_test, y_pred))\n",
    "print(\"F1 score is \",f1_score(y_test, y_pred))"
   ]
  },
  {
   "cell_type": "code",
   "execution_count": 105,
   "id": "395e5e34",
   "metadata": {},
   "outputs": [
    {
     "data": {
      "text/plain": [
       "array([[52,  0],\n",
       "       [28,  0]], dtype=int64)"
      ]
     },
     "execution_count": 105,
     "metadata": {},
     "output_type": "execute_result"
    }
   ],
   "source": [
    "confusion_matrix(y_test, y_pred)"
   ]
  },
  {
   "cell_type": "markdown",
   "id": "779e7794",
   "metadata": {},
   "source": [
    "# Radial SVM"
   ]
  },
  {
   "cell_type": "code",
   "execution_count": 107,
   "id": "8af53bb0",
   "metadata": {},
   "outputs": [],
   "source": [
    "from sklearn.svm import SVC  # import  support vector classifier (SVC)\n",
    "rad_svm= SVC(kernel=\"rbf\") # kernel is radial basis function\n",
    "rad_svm.fit(X_train, y_train) # Training the model \n",
    "y_pred=poly_svm.predict(x_test)"
   ]
  },
  {
   "cell_type": "code",
   "execution_count": 108,
   "id": "8654842a",
   "metadata": {},
   "outputs": [
    {
     "name": "stdout",
     "output_type": "stream",
     "text": [
      "Accuracy is  0.65\n",
      "Precision is  0.0\n",
      "Recall is  0.0\n",
      "F1 score is  0.0\n"
     ]
    },
    {
     "name": "stderr",
     "output_type": "stream",
     "text": [
      "C:\\Users\\acer\\anaconda3\\lib\\site-packages\\sklearn\\metrics\\_classification.py:1245: UndefinedMetricWarning: Precision is ill-defined and being set to 0.0 due to no predicted samples. Use `zero_division` parameter to control this behavior.\n",
      "  _warn_prf(average, modifier, msg_start, len(result))\n"
     ]
    },
    {
     "data": {
      "text/plain": [
       "array([[52,  0],\n",
       "       [28,  0]], dtype=int64)"
      ]
     },
     "execution_count": 108,
     "metadata": {},
     "output_type": "execute_result"
    }
   ],
   "source": [
    "#Then the efficieny of the model is checked\n",
    "print(\"Accuracy is \",accuracy_score(y_test, y_pred))\n",
    "print(\"Precision is \",precision_score(y_test, y_pred))\n",
    "print(\"Recall is \",recall_score(y_test, y_pred))\n",
    "print(\"F1 score is \",f1_score(y_test, y_pred))\n",
    "confusion_matrix(y_test, y_pred)"
   ]
  },
  {
   "cell_type": "code",
   "execution_count": null,
   "id": "4a01207d",
   "metadata": {},
   "outputs": [],
   "source": []
  }
 ],
 "metadata": {
  "kernelspec": {
   "display_name": "Python 3",
   "language": "python",
   "name": "python3"
  },
  "language_info": {
   "codemirror_mode": {
    "name": "ipython",
    "version": 3
   },
   "file_extension": ".py",
   "mimetype": "text/x-python",
   "name": "python",
   "nbconvert_exporter": "python",
   "pygments_lexer": "ipython3",
   "version": "3.8.8"
  }
 },
 "nbformat": 4,
 "nbformat_minor": 5
}
