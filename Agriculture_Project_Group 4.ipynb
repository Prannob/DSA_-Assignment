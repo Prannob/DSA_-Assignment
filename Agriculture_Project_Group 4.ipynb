{
 "cells": [
  {
   "cell_type": "code",
   "execution_count": 58,
   "id": "f72d3e24",
   "metadata": {},
   "outputs": [],
   "source": [
    "import numpy as np\n",
    "import pandas as pd\n",
    "import seaborn as sns\n",
    "import matplotlib.pyplot as plt"
   ]
  },
  {
   "cell_type": "code",
   "execution_count": 59,
   "id": "4423bdd6",
   "metadata": {},
   "outputs": [],
   "source": [
    "data=pd.read_csv(\"Crop_recommendation.csv\")"
   ]
  },
  {
   "cell_type": "code",
   "execution_count": 60,
   "id": "8a7e9a75",
   "metadata": {},
   "outputs": [
    {
     "data": {
      "text/html": [
       "<div>\n",
       "<style scoped>\n",
       "    .dataframe tbody tr th:only-of-type {\n",
       "        vertical-align: middle;\n",
       "    }\n",
       "\n",
       "    .dataframe tbody tr th {\n",
       "        vertical-align: top;\n",
       "    }\n",
       "\n",
       "    .dataframe thead th {\n",
       "        text-align: right;\n",
       "    }\n",
       "</style>\n",
       "<table border=\"1\" class=\"dataframe\">\n",
       "  <thead>\n",
       "    <tr style=\"text-align: right;\">\n",
       "      <th></th>\n",
       "      <th>N</th>\n",
       "      <th>P</th>\n",
       "      <th>K</th>\n",
       "      <th>temperature</th>\n",
       "      <th>humidity</th>\n",
       "      <th>ph</th>\n",
       "      <th>rainfall</th>\n",
       "      <th>label</th>\n",
       "    </tr>\n",
       "  </thead>\n",
       "  <tbody>\n",
       "    <tr>\n",
       "      <th>0</th>\n",
       "      <td>90</td>\n",
       "      <td>42</td>\n",
       "      <td>43</td>\n",
       "      <td>20.879744</td>\n",
       "      <td>82.002744</td>\n",
       "      <td>6.502985</td>\n",
       "      <td>202.935536</td>\n",
       "      <td>rice</td>\n",
       "    </tr>\n",
       "    <tr>\n",
       "      <th>1</th>\n",
       "      <td>85</td>\n",
       "      <td>58</td>\n",
       "      <td>41</td>\n",
       "      <td>21.770462</td>\n",
       "      <td>80.319644</td>\n",
       "      <td>7.038096</td>\n",
       "      <td>226.655537</td>\n",
       "      <td>rice</td>\n",
       "    </tr>\n",
       "    <tr>\n",
       "      <th>2</th>\n",
       "      <td>60</td>\n",
       "      <td>55</td>\n",
       "      <td>44</td>\n",
       "      <td>23.004459</td>\n",
       "      <td>82.320763</td>\n",
       "      <td>7.840207</td>\n",
       "      <td>263.964248</td>\n",
       "      <td>rice</td>\n",
       "    </tr>\n",
       "    <tr>\n",
       "      <th>3</th>\n",
       "      <td>74</td>\n",
       "      <td>35</td>\n",
       "      <td>40</td>\n",
       "      <td>26.491096</td>\n",
       "      <td>80.158363</td>\n",
       "      <td>6.980401</td>\n",
       "      <td>242.864034</td>\n",
       "      <td>rice</td>\n",
       "    </tr>\n",
       "    <tr>\n",
       "      <th>4</th>\n",
       "      <td>78</td>\n",
       "      <td>42</td>\n",
       "      <td>42</td>\n",
       "      <td>20.130175</td>\n",
       "      <td>81.604873</td>\n",
       "      <td>7.628473</td>\n",
       "      <td>262.717340</td>\n",
       "      <td>rice</td>\n",
       "    </tr>\n",
       "    <tr>\n",
       "      <th>...</th>\n",
       "      <td>...</td>\n",
       "      <td>...</td>\n",
       "      <td>...</td>\n",
       "      <td>...</td>\n",
       "      <td>...</td>\n",
       "      <td>...</td>\n",
       "      <td>...</td>\n",
       "      <td>...</td>\n",
       "    </tr>\n",
       "    <tr>\n",
       "      <th>2195</th>\n",
       "      <td>107</td>\n",
       "      <td>34</td>\n",
       "      <td>32</td>\n",
       "      <td>26.774637</td>\n",
       "      <td>66.413269</td>\n",
       "      <td>6.780064</td>\n",
       "      <td>177.774507</td>\n",
       "      <td>coffee</td>\n",
       "    </tr>\n",
       "    <tr>\n",
       "      <th>2196</th>\n",
       "      <td>99</td>\n",
       "      <td>15</td>\n",
       "      <td>27</td>\n",
       "      <td>27.417112</td>\n",
       "      <td>56.636362</td>\n",
       "      <td>6.086922</td>\n",
       "      <td>127.924610</td>\n",
       "      <td>coffee</td>\n",
       "    </tr>\n",
       "    <tr>\n",
       "      <th>2197</th>\n",
       "      <td>118</td>\n",
       "      <td>33</td>\n",
       "      <td>30</td>\n",
       "      <td>24.131797</td>\n",
       "      <td>67.225123</td>\n",
       "      <td>6.362608</td>\n",
       "      <td>173.322839</td>\n",
       "      <td>coffee</td>\n",
       "    </tr>\n",
       "    <tr>\n",
       "      <th>2198</th>\n",
       "      <td>117</td>\n",
       "      <td>32</td>\n",
       "      <td>34</td>\n",
       "      <td>26.272418</td>\n",
       "      <td>52.127394</td>\n",
       "      <td>6.758793</td>\n",
       "      <td>127.175293</td>\n",
       "      <td>coffee</td>\n",
       "    </tr>\n",
       "    <tr>\n",
       "      <th>2199</th>\n",
       "      <td>104</td>\n",
       "      <td>18</td>\n",
       "      <td>30</td>\n",
       "      <td>23.603016</td>\n",
       "      <td>60.396475</td>\n",
       "      <td>6.779833</td>\n",
       "      <td>140.937041</td>\n",
       "      <td>coffee</td>\n",
       "    </tr>\n",
       "  </tbody>\n",
       "</table>\n",
       "<p>2200 rows × 8 columns</p>\n",
       "</div>"
      ],
      "text/plain": [
       "        N   P   K  temperature   humidity        ph    rainfall   label\n",
       "0      90  42  43    20.879744  82.002744  6.502985  202.935536    rice\n",
       "1      85  58  41    21.770462  80.319644  7.038096  226.655537    rice\n",
       "2      60  55  44    23.004459  82.320763  7.840207  263.964248    rice\n",
       "3      74  35  40    26.491096  80.158363  6.980401  242.864034    rice\n",
       "4      78  42  42    20.130175  81.604873  7.628473  262.717340    rice\n",
       "...   ...  ..  ..          ...        ...       ...         ...     ...\n",
       "2195  107  34  32    26.774637  66.413269  6.780064  177.774507  coffee\n",
       "2196   99  15  27    27.417112  56.636362  6.086922  127.924610  coffee\n",
       "2197  118  33  30    24.131797  67.225123  6.362608  173.322839  coffee\n",
       "2198  117  32  34    26.272418  52.127394  6.758793  127.175293  coffee\n",
       "2199  104  18  30    23.603016  60.396475  6.779833  140.937041  coffee\n",
       "\n",
       "[2200 rows x 8 columns]"
      ]
     },
     "execution_count": 60,
     "metadata": {},
     "output_type": "execute_result"
    }
   ],
   "source": [
    "data"
   ]
  },
  {
   "cell_type": "markdown",
   "id": "7e106323",
   "metadata": {},
   "source": [
    "# 1) Descirbe the data set"
   ]
  },
  {
   "cell_type": "code",
   "execution_count": 61,
   "id": "0c2d6802",
   "metadata": {},
   "outputs": [
    {
     "data": {
      "text/html": [
       "<div>\n",
       "<style scoped>\n",
       "    .dataframe tbody tr th:only-of-type {\n",
       "        vertical-align: middle;\n",
       "    }\n",
       "\n",
       "    .dataframe tbody tr th {\n",
       "        vertical-align: top;\n",
       "    }\n",
       "\n",
       "    .dataframe thead th {\n",
       "        text-align: right;\n",
       "    }\n",
       "</style>\n",
       "<table border=\"1\" class=\"dataframe\">\n",
       "  <thead>\n",
       "    <tr style=\"text-align: right;\">\n",
       "      <th></th>\n",
       "      <th>N</th>\n",
       "      <th>P</th>\n",
       "      <th>K</th>\n",
       "      <th>temperature</th>\n",
       "      <th>humidity</th>\n",
       "      <th>ph</th>\n",
       "      <th>rainfall</th>\n",
       "    </tr>\n",
       "  </thead>\n",
       "  <tbody>\n",
       "    <tr>\n",
       "      <th>count</th>\n",
       "      <td>2200.000000</td>\n",
       "      <td>2200.000000</td>\n",
       "      <td>2200.000000</td>\n",
       "      <td>2200.000000</td>\n",
       "      <td>2200.000000</td>\n",
       "      <td>2200.000000</td>\n",
       "      <td>2200.000000</td>\n",
       "    </tr>\n",
       "    <tr>\n",
       "      <th>mean</th>\n",
       "      <td>50.551818</td>\n",
       "      <td>53.362727</td>\n",
       "      <td>48.149091</td>\n",
       "      <td>25.616244</td>\n",
       "      <td>71.481779</td>\n",
       "      <td>6.469480</td>\n",
       "      <td>103.463655</td>\n",
       "    </tr>\n",
       "    <tr>\n",
       "      <th>std</th>\n",
       "      <td>36.917334</td>\n",
       "      <td>32.985883</td>\n",
       "      <td>50.647931</td>\n",
       "      <td>5.063749</td>\n",
       "      <td>22.263812</td>\n",
       "      <td>0.773938</td>\n",
       "      <td>54.958389</td>\n",
       "    </tr>\n",
       "    <tr>\n",
       "      <th>min</th>\n",
       "      <td>0.000000</td>\n",
       "      <td>5.000000</td>\n",
       "      <td>5.000000</td>\n",
       "      <td>8.825675</td>\n",
       "      <td>14.258040</td>\n",
       "      <td>3.504752</td>\n",
       "      <td>20.211267</td>\n",
       "    </tr>\n",
       "    <tr>\n",
       "      <th>25%</th>\n",
       "      <td>21.000000</td>\n",
       "      <td>28.000000</td>\n",
       "      <td>20.000000</td>\n",
       "      <td>22.769375</td>\n",
       "      <td>60.261953</td>\n",
       "      <td>5.971693</td>\n",
       "      <td>64.551686</td>\n",
       "    </tr>\n",
       "    <tr>\n",
       "      <th>50%</th>\n",
       "      <td>37.000000</td>\n",
       "      <td>51.000000</td>\n",
       "      <td>32.000000</td>\n",
       "      <td>25.598693</td>\n",
       "      <td>80.473146</td>\n",
       "      <td>6.425045</td>\n",
       "      <td>94.867624</td>\n",
       "    </tr>\n",
       "    <tr>\n",
       "      <th>75%</th>\n",
       "      <td>84.250000</td>\n",
       "      <td>68.000000</td>\n",
       "      <td>49.000000</td>\n",
       "      <td>28.561654</td>\n",
       "      <td>89.948771</td>\n",
       "      <td>6.923643</td>\n",
       "      <td>124.267508</td>\n",
       "    </tr>\n",
       "    <tr>\n",
       "      <th>max</th>\n",
       "      <td>140.000000</td>\n",
       "      <td>145.000000</td>\n",
       "      <td>205.000000</td>\n",
       "      <td>43.675493</td>\n",
       "      <td>99.981876</td>\n",
       "      <td>9.935091</td>\n",
       "      <td>298.560117</td>\n",
       "    </tr>\n",
       "  </tbody>\n",
       "</table>\n",
       "</div>"
      ],
      "text/plain": [
       "                 N            P            K  temperature     humidity  \\\n",
       "count  2200.000000  2200.000000  2200.000000  2200.000000  2200.000000   \n",
       "mean     50.551818    53.362727    48.149091    25.616244    71.481779   \n",
       "std      36.917334    32.985883    50.647931     5.063749    22.263812   \n",
       "min       0.000000     5.000000     5.000000     8.825675    14.258040   \n",
       "25%      21.000000    28.000000    20.000000    22.769375    60.261953   \n",
       "50%      37.000000    51.000000    32.000000    25.598693    80.473146   \n",
       "75%      84.250000    68.000000    49.000000    28.561654    89.948771   \n",
       "max     140.000000   145.000000   205.000000    43.675493    99.981876   \n",
       "\n",
       "                ph     rainfall  \n",
       "count  2200.000000  2200.000000  \n",
       "mean      6.469480   103.463655  \n",
       "std       0.773938    54.958389  \n",
       "min       3.504752    20.211267  \n",
       "25%       5.971693    64.551686  \n",
       "50%       6.425045    94.867624  \n",
       "75%       6.923643   124.267508  \n",
       "max       9.935091   298.560117  "
      ]
     },
     "execution_count": 61,
     "metadata": {},
     "output_type": "execute_result"
    }
   ],
   "source": [
    "data.describe()"
   ]
  },
  {
   "cell_type": "code",
   "execution_count": 62,
   "id": "056f177d",
   "metadata": {},
   "outputs": [
    {
     "data": {
      "text/plain": [
       "(2200, 8)"
      ]
     },
     "execution_count": 62,
     "metadata": {},
     "output_type": "execute_result"
    }
   ],
   "source": [
    "data.shape\n"
   ]
  },
  {
   "cell_type": "code",
   "execution_count": 78,
   "id": "c2bdd374",
   "metadata": {},
   "outputs": [
    {
     "name": "stdout",
     "output_type": "stream",
     "text": [
      "column Name :  N\n",
      "No. of unique values : 137 \n",
      "\n",
      "column Name :  P\n",
      "No. of unique values : 117 \n",
      "\n",
      "column Name :  K\n",
      "No. of unique values : 73 \n",
      "\n",
      "column Name :  TEMPERATURE\n",
      "No. of unique values : 2200 \n",
      "\n",
      "column Name :  HUMIDITY\n",
      "No. of unique values : 2200 \n",
      "\n",
      "column Name :  PH\n",
      "No. of unique values : 2200 \n",
      "\n",
      "column Name :  RAINFALL\n",
      "No. of unique values : 2200 \n",
      "\n",
      "column Name :  LABEL\n",
      "No. of unique values : 22 \n",
      "\n",
      "Unique values :  ['rice' 'maize' 'chickpea' 'kidneybeans' 'pigeonpeas' 'mothbeans'\n",
      " 'mungbean' 'blackgram' 'lentil' 'pomegranate' 'banana' 'mango' 'grapes'\n",
      " 'watermelon' 'muskmelon' 'apple' 'orange' 'papaya' 'coconut' 'cotton'\n",
      " 'jute' 'coffee']\n"
     ]
    }
   ],
   "source": [
    "#checking for unique values\n",
    "for i in data.columns:\n",
    "    print(\"column Name : \",i.upper())\n",
    "    print(\"No. of unique values : {} \\n\".format(data[i].nunique()))\n",
    "    if(data[i].dtype == 'object'):\n",
    "        print('Unique values : ',pd.unique(data[i]))"
   ]
  },
  {
   "cell_type": "markdown",
   "id": "de082ceb",
   "metadata": {},
   "source": [
    "# 2) Eliminate Null Values"
   ]
  },
  {
   "cell_type": "code",
   "execution_count": 63,
   "id": "e8cf2ee0",
   "metadata": {},
   "outputs": [
    {
     "name": "stdout",
     "output_type": "stream",
     "text": [
      "<class 'pandas.core.frame.DataFrame'>\n",
      "RangeIndex: 2200 entries, 0 to 2199\n",
      "Data columns (total 8 columns):\n",
      " #   Column       Non-Null Count  Dtype  \n",
      "---  ------       --------------  -----  \n",
      " 0   N            2200 non-null   int64  \n",
      " 1   P            2200 non-null   int64  \n",
      " 2   K            2200 non-null   int64  \n",
      " 3   temperature  2200 non-null   float64\n",
      " 4   humidity     2200 non-null   float64\n",
      " 5   ph           2200 non-null   float64\n",
      " 6   rainfall     2200 non-null   float64\n",
      " 7   label        2200 non-null   object \n",
      "dtypes: float64(4), int64(3), object(1)\n",
      "memory usage: 137.6+ KB\n"
     ]
    }
   ],
   "source": [
    "data.info()"
   ]
  },
  {
   "cell_type": "code",
   "execution_count": 64,
   "id": "3d8fba36",
   "metadata": {},
   "outputs": [
    {
     "data": {
      "text/plain": [
       "N              0\n",
       "P              0\n",
       "K              0\n",
       "temperature    0\n",
       "humidity       0\n",
       "ph             0\n",
       "rainfall       0\n",
       "label          0\n",
       "dtype: int64"
      ]
     },
     "execution_count": 64,
     "metadata": {},
     "output_type": "execute_result"
    }
   ],
   "source": [
    "data.isna().sum()"
   ]
  },
  {
   "cell_type": "markdown",
   "id": "3b2afbf0",
   "metadata": {},
   "source": [
    "We can see that there are no missing values in the data set "
   ]
  },
  {
   "cell_type": "markdown",
   "id": "60b05ce4",
   "metadata": {},
   "source": [
    "# 2) Outlier Detection"
   ]
  },
  {
   "cell_type": "markdown",
   "id": "9ad7680d",
   "metadata": {},
   "source": [
    "# 2.a)Outlier in the Nitrogen feature."
   ]
  },
  {
   "cell_type": "code",
   "execution_count": 79,
   "id": "5c7e1f1c",
   "metadata": {},
   "outputs": [
    {
     "name": "stderr",
     "output_type": "stream",
     "text": [
      "C:\\Users\\acer\\anaconda3\\lib\\site-packages\\seaborn\\_decorators.py:36: FutureWarning: Pass the following variable as a keyword arg: x. From version 0.12, the only valid positional argument will be `data`, and passing other arguments without an explicit keyword will result in an error or misinterpretation.\n",
      "  warnings.warn(\n"
     ]
    },
    {
     "data": {
      "text/plain": [
       "Text(0.5, 0, 'Nitogen')"
      ]
     },
     "execution_count": 79,
     "metadata": {},
     "output_type": "execute_result"
    },
    {
     "data": {
      "image/png": "[encoded data removed]",
      "text/plain": [
       "<Figure size 432x288 with 1 Axes>"
      ]
     },
     "metadata": {
      "needs_background": "light"
     },
     "output_type": "display_data"
    }
   ],
   "source": [
    "sns.boxplot(data[\"N\"])\n",
    "plt.title(\"Box plot of Nitrogen\")\n",
    "plt.xlabel(\"Nitogen\")"
   ]
  },
  {
   "cell_type": "markdown",
   "id": "1a685ebf",
   "metadata": {},
   "source": [
    "We can see that no outliers are present in the nitrogen data set "
   ]
  },
  {
   "cell_type": "markdown",
   "id": "5a79064c",
   "metadata": {},
   "source": [
    "# 2.b) Outliers of Temperature data"
   ]
  },
  {
   "cell_type": "code",
   "execution_count": 116,
   "id": "2f63b9b8",
   "metadata": {},
   "outputs": [
    {
     "name": "stderr",
     "output_type": "stream",
     "text": [
      "C:\\Users\\acer\\anaconda3\\lib\\site-packages\\seaborn\\_decorators.py:36: FutureWarning: Pass the following variable as a keyword arg: x. From version 0.12, the only valid positional argument will be `data`, and passing other arguments without an explicit keyword will result in an error or misinterpretation.\n",
      "  warnings.warn(\n"
     ]
    },
    {
     "data": {
      "text/plain": [
       "Text(0.5, 0, 'temperature')"
      ]
     },
     "execution_count": 116,
     "metadata": {},
     "output_type": "execute_result"
    },
    {
     "data": {
      "image/png": "[encoded data removed]",
      "text/plain": [
       "<Figure size 432x288 with 1 Axes>"
      ]
     },
     "metadata": {
      "needs_background": "light"
     },
     "output_type": "display_data"
    }
   ],
   "source": [
    "sns.boxplot(data[\"temperature\"])\n",
    "plt.title(\"Box plot of temperature\")\n",
    "plt.xlabel(\"temperature\")"
   ]
  },
  {
   "cell_type": "code",
   "execution_count": 117,
   "id": "8ab746af",
   "metadata": {},
   "outputs": [
    {
     "name": "stdout",
     "output_type": "stream",
     "text": [
      "IQR is  5.792279300000001\n",
      "Upper limit of normal value is 37.2500728825\n",
      "Lower limit of normal value is 14.080955682499999\n"
     ]
    }
   ],
   "source": [
    "Q1=data.temperature.quantile(.25)\n",
    "Q3=data.temperature.quantile(.75) # instead of copying from describe column we can run a code to find Q1 and Q3\n",
    "IQR= Q3-Q1\n",
    "Upper_limit=Q3+1.5*IQR\n",
    "Lower_Limit=Q1-1.5*IQR\n",
    "print (\"IQR is \", IQR)\n",
    "print(\"Upper limit of normal value is\",Upper_limit)\n",
    "print(\"Lower limit of normal value is\",Lower_Limit)"
   ]
  },
  {
   "cell_type": "code",
   "execution_count": 118,
   "id": "40b5ed4e",
   "metadata": {},
   "outputs": [
    {
     "name": "stdout",
     "output_type": "stream",
     "text": [
      "Shape of original data is (2200, 8)\n",
      "Shape of outlier eliminated data is (2114, 8)\n"
     ]
    }
   ],
   "source": [
    "df2= data[(data.temperature>Lower_Limit)&(data.temperature<Upper_limit)]\n",
    "print(\"Shape of original data is\",data.shape)\n",
    "print(\"Shape of outlier eliminated data is\",df2.shape)"
   ]
  },
  {
   "cell_type": "markdown",
   "id": "a1f2a5e3",
   "metadata": {},
   "source": [
    "We can see in dataframe df2 outlier of temperature is eliminated in form the original dataset"
   ]
  },
  {
   "cell_type": "code",
   "execution_count": 119,
   "id": "cec595d9",
   "metadata": {},
   "outputs": [
    {
     "name": "stderr",
     "output_type": "stream",
     "text": [
      "C:\\Users\\acer\\anaconda3\\lib\\site-packages\\seaborn\\_decorators.py:36: FutureWarning: Pass the following variable as a keyword arg: x. From version 0.12, the only valid positional argument will be `data`, and passing other arguments without an explicit keyword will result in an error or misinterpretation.\n",
      "  warnings.warn(\n"
     ]
    },
    {
     "data": {
      "text/plain": [
       "Text(0.5, 0, 'temperature')"
      ]
     },
     "execution_count": 119,
     "metadata": {},
     "output_type": "execute_result"
    },
    {
     "data": {
      "image/png": "[encoded data removed]",
      "text/plain": [
       "<Figure size 432x288 with 1 Axes>"
      ]
     },
     "metadata": {
      "needs_background": "light"
     },
     "output_type": "display_data"
    }
   ],
   "source": [
    "# Outliers of Temperature data\n",
    "sns.boxplot(df2[\"temperature\"])\n",
    "plt.title(\"Box plot of temperature\")\n",
    "plt.xlabel(\"temperature\")"
   ]
  },
  {
   "cell_type": "code",
   "execution_count": 120,
   "id": "79cd42ca",
   "metadata": {},
   "outputs": [
    {
     "name": "stdout",
     "output_type": "stream",
     "text": [
      "IQR is  5.472669917499999\n",
      "Upper limit of normal value is 36.572532321249994\n",
      "Lower limit of normal value is 14.68185265125\n",
      "Shape of outlier eliminated data is (2107, 8)\n"
     ]
    }
   ],
   "source": [
    "Q1=df2.temperature.quantile(.25)\n",
    "Q3=df2.temperature.quantile(.75) # instead of copying from describe column we can run a code to find Q1 and Q3\n",
    "IQR= Q3-Q1\n",
    "Upper_limit=Q3+1.5*IQR\n",
    "Lower_Limit=Q1-1.5*IQR\n",
    "print (\"IQR is \", IQR)\n",
    "print(\"Upper limit of normal value is\",Upper_limit)\n",
    "print(\"Lower limit of normal value is\",Lower_Limit)\n",
    "df2= data[(data.temperature>Lower_Limit)&(data.temperature<Upper_limit)]\n",
    "print(\"Shape of outlier eliminated data is\",df2.shape)\n",
    "\n"
   ]
  },
  {
   "cell_type": "code",
   "execution_count": 121,
   "id": "e5fe9bdc",
   "metadata": {},
   "outputs": [
    {
     "name": "stderr",
     "output_type": "stream",
     "text": [
      "C:\\Users\\acer\\anaconda3\\lib\\site-packages\\seaborn\\_decorators.py:36: FutureWarning: Pass the following variable as a keyword arg: x. From version 0.12, the only valid positional argument will be `data`, and passing other arguments without an explicit keyword will result in an error or misinterpretation.\n",
      "  warnings.warn(\n"
     ]
    },
    {
     "data": {
      "text/plain": [
       "Text(0.5, 0, 'temperature')"
      ]
     },
     "execution_count": 121,
     "metadata": {},
     "output_type": "execute_result"
    },
    {
     "data": {
      "image/png": "[encoded data removed]",
      "text/plain": [
       "<Figure size 432x288 with 1 Axes>"
      ]
     },
     "metadata": {
      "needs_background": "light"
     },
     "output_type": "display_data"
    }
   ],
   "source": [
    "sns.boxplot(df2[\"temperature\"])\n",
    "plt.title(\"Box plot of temperature\")\n",
    "plt.xlabel(\"temperature\")"
   ]
  },
  {
   "cell_type": "markdown",
   "id": "d6a19a84",
   "metadata": {},
   "source": [
    "We can see that all outliers in the temperature column are eliminated"
   ]
  },
  {
   "cell_type": "markdown",
   "id": "aecf14dd",
   "metadata": {},
   "source": [
    "# 2.c) Outliers in Phosphorous column"
   ]
  },
  {
   "cell_type": "code",
   "execution_count": 122,
   "id": "e5b69394",
   "metadata": {},
   "outputs": [
    {
     "name": "stderr",
     "output_type": "stream",
     "text": [
      "C:\\Users\\acer\\anaconda3\\lib\\site-packages\\seaborn\\_decorators.py:36: FutureWarning: Pass the following variable as a keyword arg: x. From version 0.12, the only valid positional argument will be `data`, and passing other arguments without an explicit keyword will result in an error or misinterpretation.\n",
      "  warnings.warn(\n"
     ]
    },
    {
     "data": {
      "text/plain": [
       "Text(0.5, 0, ' Phosphorous')"
      ]
     },
     "execution_count": 122,
     "metadata": {},
     "output_type": "execute_result"
    },
    {
     "data": {
      "image/png": "[encoded data removed]",
      "text/plain": [
       "<Figure size 432x288 with 1 Axes>"
      ]
     },
     "metadata": {
      "needs_background": "light"
     },
     "output_type": "display_data"
    }
   ],
   "source": [
    "sns.boxplot(df2[\"P\"])\n",
    "plt.title(\"Box plot of  Phosphorous\")\n",
    "plt.xlabel(\" Phosphorous\")"
   ]
  },
  {
   "cell_type": "code",
   "execution_count": 123,
   "id": "53fa6cdc",
   "metadata": {},
   "outputs": [
    {
     "name": "stdout",
     "output_type": "stream",
     "text": [
      "IQR is  40.0\n",
      " \n",
      "Upper limit of normal value is 128.0\n",
      "Lower limit of normal value is -32.0\n",
      "Shape of outlier eliminated data is (1985, 8)\n"
     ]
    }
   ],
   "source": [
    "Q1=df2.P.quantile(.25)\n",
    "Q3=df2.P.quantile(.75) # instead of copying from describe column we can run a code to find Q1 and Q3\n",
    "IQR= Q3-Q1\n",
    "Upper_limit=Q3+1.5*IQR\n",
    "Lower_Limit=Q1-1.5*IQR\n",
    "print (\"IQR is \", IQR)\n",
    "print(\" \\nUpper limit of normal value is\",Upper_limit)\n",
    "print(\"Lower limit of normal value is\",Lower_Limit)\n",
    "df2= df2[(df2.P>Lower_Limit)&(df2.P<Upper_limit)]\n",
    "print(\"Shape of outlier eliminated data is\",df2.shape)"
   ]
  },
  {
   "cell_type": "code",
   "execution_count": 124,
   "id": "23fc79ac",
   "metadata": {},
   "outputs": [
    {
     "name": "stderr",
     "output_type": "stream",
     "text": [
      "C:\\Users\\acer\\anaconda3\\lib\\site-packages\\seaborn\\_decorators.py:36: FutureWarning: Pass the following variable as a keyword arg: x. From version 0.12, the only valid positional argument will be `data`, and passing other arguments without an explicit keyword will result in an error or misinterpretation.\n",
      "  warnings.warn(\n"
     ]
    },
    {
     "data": {
      "text/plain": [
       "Text(0.5, 0, 'Phosphorous')"
      ]
     },
     "execution_count": 124,
     "metadata": {},
     "output_type": "execute_result"
    },
    {
     "data": {
      "image/png": "[encoded data removed]",
      "text/plain": [
       "<Figure size 432x288 with 1 Axes>"
      ]
     },
     "metadata": {
      "needs_background": "light"
     },
     "output_type": "display_data"
    }
   ],
   "source": [
    "sns.boxplot(df2[\"P\"])\n",
    "plt.title(\"Box plot of Phosphorous\")\n",
    "plt.xlabel(\"Phosphorous\")"
   ]
  },
  {
   "cell_type": "code",
   "execution_count": 125,
   "id": "4b4cb79a",
   "metadata": {},
   "outputs": [
    {
     "name": "stdout",
     "output_type": "stream",
     "text": [
      "IQR is  38.0\n",
      " \n",
      "Upper limit of normal value is 121.0\n",
      "Lower limit of normal value is -31.0\n",
      "Shape of outlier eliminated data is (1950, 8)\n"
     ]
    }
   ],
   "source": [
    "Q1=df2.P.quantile(.25)\n",
    "Q3=df2.P.quantile(.75) # instead of copying from describe column we can run a code to find Q1 and Q3\n",
    "IQR= Q3-Q1\n",
    "Upper_limit=Q3+1.5*IQR\n",
    "Lower_Limit=Q1-1.5*IQR\n",
    "print (\"IQR is \", IQR)\n",
    "print(\" \\nUpper limit of normal value is\",Upper_limit)\n",
    "print(\"Lower limit of normal value is\",Lower_Limit)\n",
    "df2= df2[(df2.P>Lower_Limit)&(df2.P<Upper_limit)]\n",
    "print(\"Shape of outlier eliminated data is\",df2.shape)"
   ]
  },
  {
   "cell_type": "code",
   "execution_count": 126,
   "id": "854ef11f",
   "metadata": {},
   "outputs": [
    {
     "name": "stderr",
     "output_type": "stream",
     "text": [
      "C:\\Users\\acer\\anaconda3\\lib\\site-packages\\seaborn\\_decorators.py:36: FutureWarning: Pass the following variable as a keyword arg: x. From version 0.12, the only valid positional argument will be `data`, and passing other arguments without an explicit keyword will result in an error or misinterpretation.\n",
      "  warnings.warn(\n"
     ]
    },
    {
     "data": {
      "text/plain": [
       "Text(0.5, 0, 'Phosphorous')"
      ]
     },
     "execution_count": 126,
     "metadata": {},
     "output_type": "execute_result"
    },
    {
     "data": {
      "image/png": "[encoded data removed]",
      "text/plain": [
       "<Figure size 432x288 with 1 Axes>"
      ]
     },
     "metadata": {
      "needs_background": "light"
     },
     "output_type": "display_data"
    }
   ],
   "source": [
    "sns.boxplot(df2[\"P\"])\n",
    "plt.title(\"Box plot of Phosphorous\")\n",
    "plt.xlabel(\"Phosphorous\")"
   ]
  },
  {
   "cell_type": "markdown",
   "id": "9805aae9",
   "metadata": {},
   "source": [
    "All the outliers in the column Phosphorous is eliminated."
   ]
  },
  {
   "cell_type": "markdown",
   "id": "12ea2461",
   "metadata": {},
   "source": [
    "# 2.d) Outliers in Potassium column"
   ]
  },
  {
   "cell_type": "code",
   "execution_count": 127,
   "id": "3b4aadcb",
   "metadata": {},
   "outputs": [
    {
     "name": "stderr",
     "output_type": "stream",
     "text": [
      "C:\\Users\\acer\\anaconda3\\lib\\site-packages\\seaborn\\_decorators.py:36: FutureWarning: Pass the following variable as a keyword arg: x. From version 0.12, the only valid positional argument will be `data`, and passing other arguments without an explicit keyword will result in an error or misinterpretation.\n",
      "  warnings.warn(\n"
     ]
    },
    {
     "data": {
      "text/plain": [
       "Text(0.5, 0, ' Potassium')"
      ]
     },
     "execution_count": 127,
     "metadata": {},
     "output_type": "execute_result"
    },
    {
     "data": {
      "image/png": "[encoded data removed]",
      "text/plain": [
       "<Figure size 432x288 with 1 Axes>"
      ]
     },
     "metadata": {
      "needs_background": "light"
     },
     "output_type": "display_data"
    }
   ],
   "source": [
    "sns.boxplot(df2[\"K\"])\n",
    "plt.title(\"Box plot of  Potassium\")\n",
    "plt.xlabel(\" Potassium\")"
   ]
  },
  {
   "cell_type": "code",
   "execution_count": 128,
   "id": "6d6db949",
   "metadata": {},
   "outputs": [
    {
     "name": "stdout",
     "output_type": "stream",
     "text": [
      "IQR is  25.0\n",
      " \n",
      "Upper limit of normal value is 82.5\n",
      "Lower limit of normal value is -17.5\n",
      "Shape of outlier eliminated data is (1895, 8)\n"
     ]
    }
   ],
   "source": [
    "Q1=df2.K.quantile(.25)\n",
    "Q3=df2.K.quantile(.75) # instead of copying from describe column we can run a code to find Q1 and Q3\n",
    "IQR= Q3-Q1\n",
    "Upper_limit=Q3+1.5*IQR\n",
    "Lower_Limit=Q1-1.5*IQR\n",
    "print (\"IQR is \", IQR)\n",
    "print(\" \\nUpper limit of normal value is\",Upper_limit)\n",
    "print(\"Lower limit of normal value is\",Lower_Limit)\n",
    "df2= df2[(df2.P>Lower_Limit)&(df2.P<Upper_limit)]\n",
    "print(\"Shape of outlier eliminated data is\",df2.shape)"
   ]
  },
  {
   "cell_type": "code",
   "execution_count": 129,
   "id": "396a2c71",
   "metadata": {},
   "outputs": [
    {
     "name": "stderr",
     "output_type": "stream",
     "text": [
      "C:\\Users\\acer\\anaconda3\\lib\\site-packages\\seaborn\\_decorators.py:36: FutureWarning: Pass the following variable as a keyword arg: x. From version 0.12, the only valid positional argument will be `data`, and passing other arguments without an explicit keyword will result in an error or misinterpretation.\n",
      "  warnings.warn(\n"
     ]
    },
    {
     "data": {
      "text/plain": [
       "Text(0.5, 0, ' Potassium')"
      ]
     },
     "execution_count": 129,
     "metadata": {},
     "output_type": "execute_result"
    },
    {
     "data": {
      "image/png": "[encoded data removed]",
      "text/plain": [
       "<Figure size 432x288 with 1 Axes>"
      ]
     },
     "metadata": {
      "needs_background": "light"
     },
     "output_type": "display_data"
    }
   ],
   "source": [
    "sns.boxplot(df2[\"K\"])\n",
    "plt.title(\"Box plot of  Potassium\")\n",
    "plt.xlabel(\" Potassium\")"
   ]
  },
  {
   "cell_type": "code",
   "execution_count": 130,
   "id": "9b2dfc26",
   "metadata": {},
   "outputs": [
    {
     "name": "stdout",
     "output_type": "stream",
     "text": [
      "IQR is  23.0\n",
      " \n",
      "Upper limit of normal value is 77.5\n",
      "Lower limit of normal value is -14.5\n",
      "Shape of outlier eliminated data is (1818, 8)\n"
     ]
    }
   ],
   "source": [
    "Q1=df2.K.quantile(.25)\n",
    "Q3=df2.K.quantile(.75) # instead of copying from describe column we can run a code to find Q1 and Q3\n",
    "IQR= Q3-Q1\n",
    "Upper_limit=Q3+1.5*IQR\n",
    "Lower_Limit=Q1-1.5*IQR\n",
    "print (\"IQR is \", IQR)\n",
    "print(\" \\nUpper limit of normal value is\",Upper_limit)\n",
    "print(\"Lower limit of normal value is\",Lower_Limit)\n",
    "df2= df2[(df2.P>Lower_Limit)&(df2.P<Upper_limit)]\n",
    "print(\"Shape of outlier eliminated data is\",df2.shape)"
   ]
  },
  {
   "cell_type": "code",
   "execution_count": 131,
   "id": "3f80089f",
   "metadata": {},
   "outputs": [
    {
     "name": "stderr",
     "output_type": "stream",
     "text": [
      "C:\\Users\\acer\\anaconda3\\lib\\site-packages\\seaborn\\_decorators.py:36: FutureWarning: Pass the following variable as a keyword arg: x. From version 0.12, the only valid positional argument will be `data`, and passing other arguments without an explicit keyword will result in an error or misinterpretation.\n",
      "  warnings.warn(\n"
     ]
    },
    {
     "data": {
      "text/plain": [
       "Text(0.5, 0, ' Potassium')"
      ]
     },
     "execution_count": 131,
     "metadata": {},
     "output_type": "execute_result"
    },
    {
     "data": {
      "image/png": "[encoded data removed]",
      "text/plain": [
       "<Figure size 432x288 with 1 Axes>"
      ]
     },
     "metadata": {
      "needs_background": "light"
     },
     "output_type": "display_data"
    }
   ],
   "source": [
    "sns.boxplot(df2[\"K\"])\n",
    "plt.title(\"Box plot of  Potassium\")\n",
    "plt.xlabel(\" Potassium\")"
   ]
  },
  {
   "cell_type": "code",
   "execution_count": 133,
   "id": "333852c2",
   "metadata": {},
   "outputs": [
    {
     "name": "stdout",
     "output_type": "stream",
     "text": [
      "outlier data are \n",
      " [84, 85, 85, 81, 84, 84, 81, 79, 79, 81, 85, 84, 84, 83, 83, 78, 80, 84, 85, 81, 82, 83, 81, 78, 79, 81, 81, 78, 79, 83, 84, 78, 85, 78, 78, 78, 85, 80, 85, 85, 82, 79, 78, 82, 85, 80, 83, 79, 79, 79, 85, 82, 84, 80, 83, 78, 81, 82, 85, 78, 82, 78, 78, 83, 82]\n",
      "index of outliers are \n",
      " Int64Index([201, 202, 203, 205, 206, 207, 209, 210, 211, 212, 213, 215, 217,\n",
      "            223, 224, 225, 226, 227, 228, 229, 230, 232, 235, 237, 241, 243,\n",
      "            244, 245, 246, 247, 248, 249, 251, 252, 254, 255, 256, 258, 260,\n",
      "            262, 263, 264, 266, 267, 268, 269, 270, 271, 272, 273, 276, 277,\n",
      "            278, 280, 282, 284, 286, 287, 289, 290, 294, 295, 296, 297, 299],\n",
      "           dtype='int64')\n"
     ]
    }
   ],
   "source": [
    "# This is used to find the outliers in the data\n",
    "outliers=[]\n",
    "for x in df2[\"K\"]:\n",
    "    if ((x>Upper_limit) or (x<Lower_Limit)):\n",
    "        outliers.append(x)\n",
    "print(\"outlier data are \\n\",outliers)\n",
    "\n",
    "# to find the index of the outlier\n",
    "ind1= df2[\"K\"]>Upper_limit\n",
    "print(\"index of outliers are \\n\",df2.loc[ind1].index)"
   ]
  },
  {
   "cell_type": "code",
   "execution_count": 134,
   "id": "fba56708",
   "metadata": {},
   "outputs": [],
   "source": [
    "\n",
    "df2.drop([201, 202, 203, 205, 206, 207, 209, 210, 211, 212, 213, 215, 217,\n",
    "            223, 224, 225, 226, 227, 228, 229, 230, 232, 235, 237, 241, 243,\n",
    "            244, 245, 246, 247, 248, 249, 251, 252, 254, 255, 256, 258, 260,\n",
    "            262, 263, 264, 266, 267, 268, 269, 270, 271, 272, 273, 276, 277,\n",
    "            278, 280, 282, 284, 286, 287, 289, 290, 294, 295, 296, 297, 299], inplace= True)"
   ]
  },
  {
   "cell_type": "code",
   "execution_count": 98,
   "id": "fc824fc1",
   "metadata": {},
   "outputs": [
    {
     "data": {
      "text/plain": [
       "(1753, 8)"
      ]
     },
     "execution_count": 98,
     "metadata": {},
     "output_type": "execute_result"
    }
   ],
   "source": [
    "df2.shape"
   ]
  },
  {
   "cell_type": "code",
   "execution_count": 135,
   "id": "171ec678",
   "metadata": {},
   "outputs": [
    {
     "name": "stderr",
     "output_type": "stream",
     "text": [
      "C:\\Users\\acer\\anaconda3\\lib\\site-packages\\seaborn\\_decorators.py:36: FutureWarning: Pass the following variable as a keyword arg: x. From version 0.12, the only valid positional argument will be `data`, and passing other arguments without an explicit keyword will result in an error or misinterpretation.\n",
      "  warnings.warn(\n"
     ]
    },
    {
     "data": {
      "text/plain": [
       "Text(0.5, 0, ' Potassium')"
      ]
     },
     "execution_count": 135,
     "metadata": {},
     "output_type": "execute_result"
    },
    {
     "data": {
      "image/png": "[encoded data removed]",
      "text/plain": [
       "<Figure size 432x288 with 1 Axes>"
      ]
     },
     "metadata": {
      "needs_background": "light"
     },
     "output_type": "display_data"
    }
   ],
   "source": [
    "sns.boxplot(df2[\"K\"])\n",
    "plt.title(\"Box plot of  Potassium\")\n",
    "plt.xlabel(\" Potassium\")"
   ]
  },
  {
   "cell_type": "code",
   "execution_count": 136,
   "id": "6217c442",
   "metadata": {},
   "outputs": [
    {
     "name": "stdout",
     "output_type": "stream",
     "text": [
      "outlier data are \n",
      " []\n",
      "index of outliers are \n",
      " Int64Index([], dtype='int64')\n"
     ]
    }
   ],
   "source": []
  },
  {
   "cell_type": "code",
   "execution_count": 137,
   "id": "401025e1",
   "metadata": {},
   "outputs": [
    {
     "name": "stdout",
     "output_type": "stream",
     "text": [
      "IQR is  21.0\n",
      " \n",
      "Upper limit of normal value is 72.5\n",
      "Lower limit of normal value is -11.5\n",
      "Shape of outlier eliminated data is (1730, 8)\n"
     ]
    }
   ],
   "source": [
    "Q1=df2.K.quantile(.25)\n",
    "Q3=df2.K.quantile(.75) # instead of copying from describe column we can run a code to find Q1 and Q3\n",
    "IQR= Q3-Q1\n",
    "Upper_limit=Q3+1.5*IQR\n",
    "Lower_Limit=Q1-1.5*IQR\n",
    "print (\"IQR is \", IQR)\n",
    "print(\" \\nUpper limit of normal value is\",Upper_limit)\n",
    "print(\"Lower limit of normal value is\",Lower_Limit)\n",
    "df2= df2[(df2.K>Lower_Limit)&(df2.K<Upper_limit)]\n",
    "print(\"Shape of outlier eliminated data is\",df2.shape)"
   ]
  },
  {
   "cell_type": "code",
   "execution_count": 138,
   "id": "a0240c38",
   "metadata": {},
   "outputs": [
    {
     "name": "stderr",
     "output_type": "stream",
     "text": [
      "C:\\Users\\acer\\anaconda3\\lib\\site-packages\\seaborn\\_decorators.py:36: FutureWarning: Pass the following variable as a keyword arg: x. From version 0.12, the only valid positional argument will be `data`, and passing other arguments without an explicit keyword will result in an error or misinterpretation.\n",
      "  warnings.warn(\n"
     ]
    },
    {
     "data": {
      "text/plain": [
       "Text(0.5, 0, ' Potassium')"
      ]
     },
     "execution_count": 138,
     "metadata": {},
     "output_type": "execute_result"
    },
    {
     "data": {
      "image/png": "[encoded data removed]",
      "text/plain": [
       "<Figure size 432x288 with 1 Axes>"
      ]
     },
     "metadata": {
      "needs_background": "light"
     },
     "output_type": "display_data"
    }
   ],
   "source": [
    "sns.boxplot(df2[\"K\"])\n",
    "plt.title(\"Box plot of  Potassium\")\n",
    "plt.xlabel(\" Potassium\")"
   ]
  },
  {
   "cell_type": "code",
   "execution_count": 102,
   "id": "803bfe9a",
   "metadata": {},
   "outputs": [
    {
     "name": "stdout",
     "output_type": "stream",
     "text": [
      "outlier data are \n",
      " [77, 77, 75, 77, 76, 77, 77, 77, 77, 76, 76, 75, 75, 76, 77, 76, 75]\n",
      "index of outliers are \n",
      " Int64Index([200, 204, 208, 214, 216, 219, 221, 236, 239, 240, 257, 261, 274,\n",
      "            288, 291, 293, 298],\n",
      "           dtype='int64')\n"
     ]
    }
   ],
   "source": [
    "# This is used to find the outliers in the data\n",
    "outliers=[]\n",
    "for x in df2[\"K\"]:\n",
    "    if ((x>Upper_limit) or (x<Lower_Limit)):\n",
    "        outliers.append(x)\n",
    "print(\"outlier data are \\n\",outliers)\n",
    "\n",
    "# to find the index of the outlier\n",
    "ind1= df2[\"K\"]>Upper_limit\n",
    "print(\"index of outliers are \\n\",df2.loc[ind1].index)"
   ]
  },
  {
   "cell_type": "code",
   "execution_count": 103,
   "id": "0c8a7ced",
   "metadata": {},
   "outputs": [],
   "source": [
    "\n",
    "# to drop these data\n",
    "df2.drop([200, 204, 208, 214, 216, 219, 221, 236, 239, 240, 257, 261, 274,\n",
    "            288, 291, 293, 298], inplace= True)"
   ]
  },
  {
   "cell_type": "code",
   "execution_count": 104,
   "id": "a8554598",
   "metadata": {},
   "outputs": [
    {
     "data": {
      "text/plain": [
       "(1632, 8)"
      ]
     },
     "execution_count": 104,
     "metadata": {},
     "output_type": "execute_result"
    }
   ],
   "source": [
    "df2.shape"
   ]
  },
  {
   "cell_type": "code",
   "execution_count": 105,
   "id": "0bda554d",
   "metadata": {},
   "outputs": [
    {
     "name": "stderr",
     "output_type": "stream",
     "text": [
      "C:\\Users\\acer\\anaconda3\\lib\\site-packages\\seaborn\\_decorators.py:36: FutureWarning: Pass the following variable as a keyword arg: x. From version 0.12, the only valid positional argument will be `data`, and passing other arguments without an explicit keyword will result in an error or misinterpretation.\n",
      "  warnings.warn(\n"
     ]
    },
    {
     "data": {
      "text/plain": [
       "Text(0.5, 0, ' Potassium')"
      ]
     },
     "execution_count": 105,
     "metadata": {},
     "output_type": "execute_result"
    },
    {
     "data": {
      "image/png": "[encoded data removed]",
      "text/plain": [
       "<Figure size 432x288 with 1 Axes>"
      ]
     },
     "metadata": {
      "needs_background": "light"
     },
     "output_type": "display_data"
    }
   ],
   "source": [
    "sns.boxplot(df2[\"K\"])\n",
    "plt.title(\"Box plot of  Potassium\")\n",
    "plt.xlabel(\" Potassium\")"
   ]
  },
  {
   "cell_type": "code",
   "execution_count": 106,
   "id": "03e1d1b6",
   "metadata": {},
   "outputs": [
    {
     "data": {
      "text/plain": [
       "(1632, 8)"
      ]
     },
     "execution_count": 106,
     "metadata": {},
     "output_type": "execute_result"
    }
   ],
   "source": [
    "df2.shape"
   ]
  },
  {
   "cell_type": "markdown",
   "id": "6d4ee190",
   "metadata": {},
   "source": [
    "# 2.e) Outliers in humidity column"
   ]
  },
  {
   "cell_type": "code",
   "execution_count": 139,
   "id": "4f09d8fe",
   "metadata": {},
   "outputs": [
    {
     "name": "stderr",
     "output_type": "stream",
     "text": [
      "C:\\Users\\acer\\anaconda3\\lib\\site-packages\\seaborn\\_decorators.py:36: FutureWarning: Pass the following variable as a keyword arg: x. From version 0.12, the only valid positional argument will be `data`, and passing other arguments without an explicit keyword will result in an error or misinterpretation.\n",
      "  warnings.warn(\n"
     ]
    },
    {
     "data": {
      "text/plain": [
       "Text(0.5, 0, 'humidity')"
      ]
     },
     "execution_count": 139,
     "metadata": {},
     "output_type": "execute_result"
    },
    {
     "data": {
      "image/png": "[encoded data removed]",
      "text/plain": [
       "<Figure size 432x288 with 1 Axes>"
      ]
     },
     "metadata": {
      "needs_background": "light"
     },
     "output_type": "display_data"
    }
   ],
   "source": [
    "sns.boxplot(df2[\"humidity\"])\n",
    "plt.title(\"Box plot of humidity\")\n",
    "plt.xlabel(\"humidity\")"
   ]
  },
  {
   "cell_type": "markdown",
   "id": "85d010cb",
   "metadata": {},
   "source": [
    "No outliers in humidity data"
   ]
  },
  {
   "cell_type": "code",
   "execution_count": 110,
   "id": "e589ebdc",
   "metadata": {},
   "outputs": [
    {
     "data": {
      "text/plain": [
       "(1632, 8)"
      ]
     },
     "execution_count": 110,
     "metadata": {},
     "output_type": "execute_result"
    }
   ],
   "source": [
    "df2.shape"
   ]
  },
  {
   "cell_type": "markdown",
   "id": "7060c7e6",
   "metadata": {},
   "source": [
    "# 2.f) Outliers in rainfall column"
   ]
  },
  {
   "cell_type": "code",
   "execution_count": 140,
   "id": "040a93d0",
   "metadata": {},
   "outputs": [
    {
     "name": "stderr",
     "output_type": "stream",
     "text": [
      "C:\\Users\\acer\\anaconda3\\lib\\site-packages\\seaborn\\_decorators.py:36: FutureWarning: Pass the following variable as a keyword arg: x. From version 0.12, the only valid positional argument will be `data`, and passing other arguments without an explicit keyword will result in an error or misinterpretation.\n",
      "  warnings.warn(\n"
     ]
    },
    {
     "data": {
      "text/plain": [
       "Text(0.5, 0, 'rainfall')"
      ]
     },
     "execution_count": 140,
     "metadata": {},
     "output_type": "execute_result"
    },
    {
     "data": {
      "image/png": "[encoded data removed]",
      "text/plain": [
       "<Figure size 432x288 with 1 Axes>"
      ]
     },
     "metadata": {
      "needs_background": "light"
     },
     "output_type": "display_data"
    }
   ],
   "source": [
    "sns.boxplot(df2[\"rainfall\"])\n",
    "plt.title(\"Box plot of rainfall\")\n",
    "plt.xlabel(\"rainfall\")"
   ]
  },
  {
   "cell_type": "code",
   "execution_count": 141,
   "id": "6bf15eaa",
   "metadata": {},
   "outputs": [
    {
     "name": "stdout",
     "output_type": "stream",
     "text": [
      "IQR is  86.7980894825\n",
      " \n",
      "Upper limit of normal value is 274.75004444875003\n",
      "Lower limit of normal value is -72.44231348125\n",
      "Shape of outlier eliminated data is (1714, 8)\n"
     ]
    }
   ],
   "source": [
    "Q1=df2.rainfall.quantile(.25)\n",
    "Q3=df2.rainfall.quantile(.75) # instead of copying from describe column we can run a code to find Q1 and Q3\n",
    "IQR= Q3-Q1\n",
    "Upper_limit=Q3+1.5*IQR\n",
    "Lower_Limit=Q1-1.5*IQR\n",
    "print (\"IQR is \", IQR)\n",
    "print(\" \\nUpper limit of normal value is\",Upper_limit)\n",
    "print(\"Lower limit of normal value is\",Lower_Limit)\n",
    "df2= df2[(df2.rainfall>Lower_Limit)&(df2.rainfall<Upper_limit)]\n",
    "print(\"Shape of outlier eliminated data is\",df2.shape)"
   ]
  },
  {
   "cell_type": "code",
   "execution_count": 142,
   "id": "7e68500e",
   "metadata": {},
   "outputs": [
    {
     "name": "stderr",
     "output_type": "stream",
     "text": [
      "C:\\Users\\acer\\anaconda3\\lib\\site-packages\\seaborn\\_decorators.py:36: FutureWarning: Pass the following variable as a keyword arg: x. From version 0.12, the only valid positional argument will be `data`, and passing other arguments without an explicit keyword will result in an error or misinterpretation.\n",
      "  warnings.warn(\n"
     ]
    },
    {
     "data": {
      "text/plain": [
       "Text(0.5, 0, 'rainfall')"
      ]
     },
     "execution_count": 142,
     "metadata": {},
     "output_type": "execute_result"
    },
    {
     "data": {
      "image/png": "[encoded data removed]",
      "text/plain": [
       "<Figure size 432x288 with 1 Axes>"
      ]
     },
     "metadata": {
      "needs_background": "light"
     },
     "output_type": "display_data"
    }
   ],
   "source": [
    "sns.boxplot(df2[\"rainfall\"])\n",
    "plt.title(\"Box plot of rainfall\")\n",
    "plt.xlabel(\"rainfall\")"
   ]
  },
  {
   "cell_type": "code",
   "execution_count": 143,
   "id": "c5f1bf51",
   "metadata": {},
   "outputs": [
    {
     "name": "stdout",
     "output_type": "stream",
     "text": [
      "IQR is  84.04506452250001\n",
      " \n",
      "Upper limit of normal value is 267.64264203375\n",
      "Lower limit of normal value is -68.53761605625002\n",
      "Shape of outlier eliminated data is (1707, 8)\n"
     ]
    }
   ],
   "source": [
    "Q1=df2.rainfall.quantile(.25)\n",
    "Q3=df2.rainfall.quantile(.75) # instead of copying from describe column we can run a code to find Q1 and Q3\n",
    "IQR= Q3-Q1\n",
    "Upper_limit=Q3+1.5*IQR\n",
    "Lower_Limit=Q1-1.5*IQR\n",
    "print (\"IQR is \", IQR)\n",
    "print(\" \\nUpper limit of normal value is\",Upper_limit)\n",
    "print(\"Lower limit of normal value is\",Lower_Limit)\n",
    "df2= df2[(df2.rainfall>Lower_Limit)&(df2.rainfall<Upper_limit)]\n",
    "print(\"Shape of outlier eliminated data is\",df2.shape)"
   ]
  },
  {
   "cell_type": "code",
   "execution_count": 144,
   "id": "85bfa3f4",
   "metadata": {},
   "outputs": [
    {
     "name": "stderr",
     "output_type": "stream",
     "text": [
      "C:\\Users\\acer\\anaconda3\\lib\\site-packages\\seaborn\\_decorators.py:36: FutureWarning: Pass the following variable as a keyword arg: x. From version 0.12, the only valid positional argument will be `data`, and passing other arguments without an explicit keyword will result in an error or misinterpretation.\n",
      "  warnings.warn(\n"
     ]
    },
    {
     "data": {
      "text/plain": [
       "Text(0.5, 0, 'rainfall')"
      ]
     },
     "execution_count": 144,
     "metadata": {},
     "output_type": "execute_result"
    },
    {
     "data": {
      "image/png": "[encoded data removed]",
      "text/plain": [
       "<Figure size 432x288 with 1 Axes>"
      ]
     },
     "metadata": {
      "needs_background": "light"
     },
     "output_type": "display_data"
    }
   ],
   "source": [
    "sns.boxplot(df2[\"rainfall\"])\n",
    "plt.title(\"Box plot of rainfall\")\n",
    "plt.xlabel(\"rainfall\")"
   ]
  },
  {
   "cell_type": "markdown",
   "id": "f754a474",
   "metadata": {},
   "source": [
    "No outliers in rainfall column"
   ]
  },
  {
   "cell_type": "markdown",
   "id": "c271adcb",
   "metadata": {},
   "source": [
    "# 2.f) Outliers in ph column"
   ]
  },
  {
   "cell_type": "code",
   "execution_count": 145,
   "id": "648a6610",
   "metadata": {},
   "outputs": [
    {
     "name": "stderr",
     "output_type": "stream",
     "text": [
      "C:\\Users\\acer\\anaconda3\\lib\\site-packages\\seaborn\\_decorators.py:36: FutureWarning: Pass the following variable as a keyword arg: x. From version 0.12, the only valid positional argument will be `data`, and passing other arguments without an explicit keyword will result in an error or misinterpretation.\n",
      "  warnings.warn(\n"
     ]
    },
    {
     "data": {
      "text/plain": [
       "Text(0.5, 0, 'ph')"
      ]
     },
     "execution_count": 145,
     "metadata": {},
     "output_type": "execute_result"
    },
    {
     "data": {
      "image/png": "[encoded data removed]",
      "text/plain": [
       "<Figure size 432x288 with 1 Axes>"
      ]
     },
     "metadata": {
      "needs_background": "light"
     },
     "output_type": "display_data"
    }
   ],
   "source": [
    "sns.boxplot(df2[\"ph\"])\n",
    "plt.title(\"Box plot of ph\")\n",
    "plt.xlabel(\"ph\")"
   ]
  },
  {
   "cell_type": "code",
   "execution_count": 146,
   "id": "65b5b6ff",
   "metadata": {},
   "outputs": [
    {
     "name": "stdout",
     "output_type": "stream",
     "text": [
      "IQR is  0.9195447664999996\n",
      " \n",
      "Upper limit of normal value is 8.328246339249999\n",
      "Lower limit of normal value is 4.65006727325\n",
      "Shape of outlier eliminated data is (1653, 8)\n"
     ]
    }
   ],
   "source": [
    "Q1=df2.ph.quantile(.25)\n",
    "Q3=df2.ph.quantile(.75) # instead of copying from describe column we can run a code to find Q1 and Q3\n",
    "IQR= Q3-Q1\n",
    "Upper_limit=Q3+1.5*IQR\n",
    "Lower_Limit=Q1-1.5*IQR\n",
    "print (\"IQR is \", IQR)\n",
    "print(\" \\nUpper limit of normal value is\",Upper_limit)\n",
    "print(\"Lower limit of normal value is\",Lower_Limit)\n",
    "df2= df2[(df2.ph>Lower_Limit)&(df2.ph<Upper_limit)]\n",
    "print(\"Shape of outlier eliminated data is\",df2.shape)"
   ]
  },
  {
   "cell_type": "code",
   "execution_count": 147,
   "id": "535db4a4",
   "metadata": {},
   "outputs": [
    {
     "name": "stderr",
     "output_type": "stream",
     "text": [
      "C:\\Users\\acer\\anaconda3\\lib\\site-packages\\seaborn\\_decorators.py:36: FutureWarning: Pass the following variable as a keyword arg: x. From version 0.12, the only valid positional argument will be `data`, and passing other arguments without an explicit keyword will result in an error or misinterpretation.\n",
      "  warnings.warn(\n"
     ]
    },
    {
     "data": {
      "text/plain": [
       "Text(0.5, 0, 'ph')"
      ]
     },
     "execution_count": 147,
     "metadata": {},
     "output_type": "execute_result"
    },
    {
     "data": {
      "image/png": "[encoded data removed]",
      "text/plain": [
       "<Figure size 432x288 with 1 Axes>"
      ]
     },
     "metadata": {
      "needs_background": "light"
     },
     "output_type": "display_data"
    }
   ],
   "source": [
    "sns.boxplot(df2[\"ph\"])\n",
    "plt.title(\"Box plot of ph\")\n",
    "plt.xlabel(\"ph\")"
   ]
  },
  {
   "cell_type": "code",
   "execution_count": 148,
   "id": "cf79be56",
   "metadata": {},
   "outputs": [
    {
     "name": "stdout",
     "output_type": "stream",
     "text": [
      "IQR is  0.8848806209999989\n",
      " \n",
      "Upper limit of normal value is 8.259245894499998\n",
      "Lower limit of normal value is 4.719723410500002\n",
      "Shape of outlier eliminated data is (1643, 8)\n"
     ]
    }
   ],
   "source": [
    "Q1=df2.ph.quantile(.25)\n",
    "Q3=df2.ph.quantile(.75) # instead of copying from describe column we can run a code to find Q1 and Q3\n",
    "IQR= Q3-Q1\n",
    "Upper_limit=Q3+1.5*IQR\n",
    "Lower_Limit=Q1-1.5*IQR\n",
    "print (\"IQR is \", IQR)\n",
    "print(\" \\nUpper limit of normal value is\",Upper_limit)\n",
    "print(\"Lower limit of normal value is\",Lower_Limit)\n",
    "df2= df2[(df2.ph>Lower_Limit)&(df2.ph<Upper_limit)]\n",
    "print(\"Shape of outlier eliminated data is\",df2.shape)"
   ]
  },
  {
   "cell_type": "code",
   "execution_count": 40,
   "id": "9c506e73",
   "metadata": {},
   "outputs": [
    {
     "name": "stderr",
     "output_type": "stream",
     "text": [
      "C:\\Users\\acer\\anaconda3\\lib\\site-packages\\seaborn\\_decorators.py:36: FutureWarning: Pass the following variable as a keyword arg: x. From version 0.12, the only valid positional argument will be `data`, and passing other arguments without an explicit keyword will result in an error or misinterpretation.\n",
      "  warnings.warn(\n"
     ]
    },
    {
     "data": {
      "text/plain": [
       "Text(0.5, 0, 'ph')"
      ]
     },
     "execution_count": 40,
     "metadata": {},
     "output_type": "execute_result"
    },
    {
     "data": {
      "image/png": "[encoded data removed]",
      "text/plain": [
       "<Figure size 432x288 with 1 Axes>"
      ]
     },
     "metadata": {
      "needs_background": "light"
     },
     "output_type": "display_data"
    }
   ],
   "source": [
    "sns.boxplot(df2[\"ph\"])\n",
    "plt.title(\"Box plot of ph\")\n",
    "plt.xlabel(\"ph\")"
   ]
  },
  {
   "cell_type": "code",
   "execution_count": 149,
   "id": "78bcca05",
   "metadata": {},
   "outputs": [
    {
     "name": "stdout",
     "output_type": "stream",
     "text": [
      "IQR is  0.8702738185000003\n",
      " \n",
      "Upper limit of normal value is 8.23778676825\n",
      "Lower limit of normal value is 4.756691494249999\n",
      "Shape of outlier eliminated data is (1637, 8)\n"
     ]
    }
   ],
   "source": [
    "Q1=df2.ph.quantile(.25)\n",
    "Q3=df2.ph.quantile(.75) # instead of copying from describe column we can run a code to find Q1 and Q3\n",
    "IQR= Q3-Q1\n",
    "Upper_limit=Q3+1.5*IQR\n",
    "Lower_Limit=Q1-1.5*IQR\n",
    "print (\"IQR is \", IQR)\n",
    "print(\" \\nUpper limit of normal value is\",Upper_limit)\n",
    "print(\"Lower limit of normal value is\",Lower_Limit)\n",
    "df2= df2[(df2.ph>Lower_Limit)&(df2.ph<Upper_limit)]\n",
    "print(\"Shape of outlier eliminated data is\",df2.shape)"
   ]
  },
  {
   "cell_type": "code",
   "execution_count": 150,
   "id": "7a443b22",
   "metadata": {},
   "outputs": [
    {
     "name": "stderr",
     "output_type": "stream",
     "text": [
      "C:\\Users\\acer\\anaconda3\\lib\\site-packages\\seaborn\\_decorators.py:36: FutureWarning: Pass the following variable as a keyword arg: x. From version 0.12, the only valid positional argument will be `data`, and passing other arguments without an explicit keyword will result in an error or misinterpretation.\n",
      "  warnings.warn(\n"
     ]
    },
    {
     "data": {
      "text/plain": [
       "Text(0.5, 0, 'ph')"
      ]
     },
     "execution_count": 150,
     "metadata": {},
     "output_type": "execute_result"
    },
    {
     "data": {
      "image/png": "[encoded data removed]",
      "text/plain": [
       "<Figure size 432x288 with 1 Axes>"
      ]
     },
     "metadata": {
      "needs_background": "light"
     },
     "output_type": "display_data"
    }
   ],
   "source": [
    "sns.boxplot(df2[\"ph\"])\n",
    "plt.title(\"Box plot of ph\")\n",
    "plt.xlabel(\"ph\")"
   ]
  },
  {
   "cell_type": "markdown",
   "id": "07f61c5e",
   "metadata": {},
   "source": [
    "No outliers in rainfall column"
   ]
  },
  {
   "cell_type": "code",
   "execution_count": 151,
   "id": "102aa672",
   "metadata": {},
   "outputs": [
    {
     "data": {
      "text/plain": [
       "(1637, 8)"
      ]
     },
     "execution_count": 151,
     "metadata": {},
     "output_type": "execute_result"
    }
   ],
   "source": [
    "df2.shape"
   ]
  },
  {
   "cell_type": "code",
   "execution_count": 154,
   "id": "efba3b9b",
   "metadata": {},
   "outputs": [
    {
     "data": {
      "text/html": [
       "<div>\n",
       "<style scoped>\n",
       "    .dataframe tbody tr th:only-of-type {\n",
       "        vertical-align: middle;\n",
       "    }\n",
       "\n",
       "    .dataframe tbody tr th {\n",
       "        vertical-align: top;\n",
       "    }\n",
       "\n",
       "    .dataframe thead th {\n",
       "        text-align: right;\n",
       "    }\n",
       "</style>\n",
       "<table border=\"1\" class=\"dataframe\">\n",
       "  <thead>\n",
       "    <tr style=\"text-align: right;\">\n",
       "      <th></th>\n",
       "      <th>N</th>\n",
       "      <th>P</th>\n",
       "      <th>K</th>\n",
       "      <th>temperature</th>\n",
       "      <th>humidity</th>\n",
       "      <th>ph</th>\n",
       "      <th>rainfall</th>\n",
       "      <th>label</th>\n",
       "    </tr>\n",
       "  </thead>\n",
       "  <tbody>\n",
       "    <tr>\n",
       "      <th>0</th>\n",
       "      <td>90</td>\n",
       "      <td>42</td>\n",
       "      <td>43</td>\n",
       "      <td>20.879744</td>\n",
       "      <td>82.002744</td>\n",
       "      <td>6.502985</td>\n",
       "      <td>202.935536</td>\n",
       "      <td>rice</td>\n",
       "    </tr>\n",
       "    <tr>\n",
       "      <th>1</th>\n",
       "      <td>85</td>\n",
       "      <td>58</td>\n",
       "      <td>41</td>\n",
       "      <td>21.770462</td>\n",
       "      <td>80.319644</td>\n",
       "      <td>7.038096</td>\n",
       "      <td>226.655537</td>\n",
       "      <td>rice</td>\n",
       "    </tr>\n",
       "    <tr>\n",
       "      <th>2</th>\n",
       "      <td>60</td>\n",
       "      <td>55</td>\n",
       "      <td>44</td>\n",
       "      <td>23.004459</td>\n",
       "      <td>82.320763</td>\n",
       "      <td>7.840207</td>\n",
       "      <td>263.964248</td>\n",
       "      <td>rice</td>\n",
       "    </tr>\n",
       "    <tr>\n",
       "      <th>3</th>\n",
       "      <td>74</td>\n",
       "      <td>35</td>\n",
       "      <td>40</td>\n",
       "      <td>26.491096</td>\n",
       "      <td>80.158363</td>\n",
       "      <td>6.980401</td>\n",
       "      <td>242.864034</td>\n",
       "      <td>rice</td>\n",
       "    </tr>\n",
       "    <tr>\n",
       "      <th>4</th>\n",
       "      <td>78</td>\n",
       "      <td>42</td>\n",
       "      <td>42</td>\n",
       "      <td>20.130175</td>\n",
       "      <td>81.604873</td>\n",
       "      <td>7.628473</td>\n",
       "      <td>262.717340</td>\n",
       "      <td>rice</td>\n",
       "    </tr>\n",
       "    <tr>\n",
       "      <th>...</th>\n",
       "      <td>...</td>\n",
       "      <td>...</td>\n",
       "      <td>...</td>\n",
       "      <td>...</td>\n",
       "      <td>...</td>\n",
       "      <td>...</td>\n",
       "      <td>...</td>\n",
       "      <td>...</td>\n",
       "    </tr>\n",
       "    <tr>\n",
       "      <th>2195</th>\n",
       "      <td>107</td>\n",
       "      <td>34</td>\n",
       "      <td>32</td>\n",
       "      <td>26.774637</td>\n",
       "      <td>66.413269</td>\n",
       "      <td>6.780064</td>\n",
       "      <td>177.774507</td>\n",
       "      <td>coffee</td>\n",
       "    </tr>\n",
       "    <tr>\n",
       "      <th>2196</th>\n",
       "      <td>99</td>\n",
       "      <td>15</td>\n",
       "      <td>27</td>\n",
       "      <td>27.417112</td>\n",
       "      <td>56.636362</td>\n",
       "      <td>6.086922</td>\n",
       "      <td>127.924610</td>\n",
       "      <td>coffee</td>\n",
       "    </tr>\n",
       "    <tr>\n",
       "      <th>2197</th>\n",
       "      <td>118</td>\n",
       "      <td>33</td>\n",
       "      <td>30</td>\n",
       "      <td>24.131797</td>\n",
       "      <td>67.225123</td>\n",
       "      <td>6.362608</td>\n",
       "      <td>173.322839</td>\n",
       "      <td>coffee</td>\n",
       "    </tr>\n",
       "    <tr>\n",
       "      <th>2198</th>\n",
       "      <td>117</td>\n",
       "      <td>32</td>\n",
       "      <td>34</td>\n",
       "      <td>26.272418</td>\n",
       "      <td>52.127394</td>\n",
       "      <td>6.758793</td>\n",
       "      <td>127.175293</td>\n",
       "      <td>coffee</td>\n",
       "    </tr>\n",
       "    <tr>\n",
       "      <th>2199</th>\n",
       "      <td>104</td>\n",
       "      <td>18</td>\n",
       "      <td>30</td>\n",
       "      <td>23.603016</td>\n",
       "      <td>60.396475</td>\n",
       "      <td>6.779833</td>\n",
       "      <td>140.937041</td>\n",
       "      <td>coffee</td>\n",
       "    </tr>\n",
       "  </tbody>\n",
       "</table>\n",
       "<p>1637 rows × 8 columns</p>\n",
       "</div>"
      ],
      "text/plain": [
       "        N   P   K  temperature   humidity        ph    rainfall   label\n",
       "0      90  42  43    20.879744  82.002744  6.502985  202.935536    rice\n",
       "1      85  58  41    21.770462  80.319644  7.038096  226.655537    rice\n",
       "2      60  55  44    23.004459  82.320763  7.840207  263.964248    rice\n",
       "3      74  35  40    26.491096  80.158363  6.980401  242.864034    rice\n",
       "4      78  42  42    20.130175  81.604873  7.628473  262.717340    rice\n",
       "...   ...  ..  ..          ...        ...       ...         ...     ...\n",
       "2195  107  34  32    26.774637  66.413269  6.780064  177.774507  coffee\n",
       "2196   99  15  27    27.417112  56.636362  6.086922  127.924610  coffee\n",
       "2197  118  33  30    24.131797  67.225123  6.362608  173.322839  coffee\n",
       "2198  117  32  34    26.272418  52.127394  6.758793  127.175293  coffee\n",
       "2199  104  18  30    23.603016  60.396475  6.779833  140.937041  coffee\n",
       "\n",
       "[1637 rows x 8 columns]"
      ]
     },
     "execution_count": 154,
     "metadata": {},
     "output_type": "execute_result"
    }
   ],
   "source": [
    "df2"
   ]
  },
  {
   "cell_type": "code",
   "execution_count": 155,
   "id": "4e7a5610",
   "metadata": {},
   "outputs": [
    {
     "name": "stdout",
     "output_type": "stream",
     "text": [
      "column Name :  N\n",
      "No. of unique values : 136 \n",
      "\n",
      "column Name :  P\n",
      "No. of unique values : 73 \n",
      "\n",
      "column Name :  K\n",
      "No. of unique values : 51 \n",
      "\n",
      "column Name :  TEMPERATURE\n",
      "No. of unique values : 1637 \n",
      "\n",
      "column Name :  HUMIDITY\n",
      "No. of unique values : 1637 \n",
      "\n",
      "column Name :  PH\n",
      "No. of unique values : 1637 \n",
      "\n",
      "column Name :  RAINFALL\n",
      "No. of unique values : 1637 \n",
      "\n",
      "column Name :  LABEL\n",
      "No. of unique values : 19 \n",
      "\n",
      "Unique values :  ['rice' 'maize' 'kidneybeans' 'pigeonpeas' 'mothbeans' 'mungbean'\n",
      " 'blackgram' 'lentil' 'pomegranate' 'banana' 'mango' 'watermelon'\n",
      " 'muskmelon' 'orange' 'papaya' 'coconut' 'cotton' 'jute' 'coffee']\n"
     ]
    }
   ],
   "source": [
    "#checking for unique values\n",
    "for i in df2.columns:\n",
    "    print(\"column Name : \",i.upper())\n",
    "    print(\"No. of unique values : {} \\n\".format(df2[i].nunique()))\n",
    "    if(df2[i].dtype == 'object'):\n",
    "        print('Unique values : ',pd.unique(df2[i]))"
   ]
  },
  {
   "cell_type": "markdown",
   "id": "c4fe5b28",
   "metadata": {},
   "source": [
    "# 3 ) Encoding of label data"
   ]
  },
  {
   "cell_type": "code",
   "execution_count": 156,
   "id": "2ba77452",
   "metadata": {},
   "outputs": [],
   "source": [
    "#label encoding for output variable\n",
    "from sklearn.preprocessing import LabelEncoder\n",
    "encod = LabelEncoder()\n",
    "df2['Encoded_label'] = encod.fit_transform(df2.label) #label will be encoded in alphabetical order"
   ]
  },
  {
   "cell_type": "code",
   "execution_count": 157,
   "id": "7b504bef",
   "metadata": {},
   "outputs": [
    {
     "data": {
      "text/html": [
       "<div>\n",
       "<style scoped>\n",
       "    .dataframe tbody tr th:only-of-type {\n",
       "        vertical-align: middle;\n",
       "    }\n",
       "\n",
       "    .dataframe tbody tr th {\n",
       "        vertical-align: top;\n",
       "    }\n",
       "\n",
       "    .dataframe thead th {\n",
       "        text-align: right;\n",
       "    }\n",
       "</style>\n",
       "<table border=\"1\" class=\"dataframe\">\n",
       "  <thead>\n",
       "    <tr style=\"text-align: right;\">\n",
       "      <th></th>\n",
       "      <th>N</th>\n",
       "      <th>P</th>\n",
       "      <th>K</th>\n",
       "      <th>temperature</th>\n",
       "      <th>humidity</th>\n",
       "      <th>ph</th>\n",
       "      <th>rainfall</th>\n",
       "      <th>label</th>\n",
       "      <th>Encoded_label</th>\n",
       "    </tr>\n",
       "  </thead>\n",
       "  <tbody>\n",
       "    <tr>\n",
       "      <th>0</th>\n",
       "      <td>90</td>\n",
       "      <td>42</td>\n",
       "      <td>43</td>\n",
       "      <td>20.879744</td>\n",
       "      <td>82.002744</td>\n",
       "      <td>6.502985</td>\n",
       "      <td>202.935536</td>\n",
       "      <td>rice</td>\n",
       "      <td>17</td>\n",
       "    </tr>\n",
       "    <tr>\n",
       "      <th>1</th>\n",
       "      <td>85</td>\n",
       "      <td>58</td>\n",
       "      <td>41</td>\n",
       "      <td>21.770462</td>\n",
       "      <td>80.319644</td>\n",
       "      <td>7.038096</td>\n",
       "      <td>226.655537</td>\n",
       "      <td>rice</td>\n",
       "      <td>17</td>\n",
       "    </tr>\n",
       "    <tr>\n",
       "      <th>2</th>\n",
       "      <td>60</td>\n",
       "      <td>55</td>\n",
       "      <td>44</td>\n",
       "      <td>23.004459</td>\n",
       "      <td>82.320763</td>\n",
       "      <td>7.840207</td>\n",
       "      <td>263.964248</td>\n",
       "      <td>rice</td>\n",
       "      <td>17</td>\n",
       "    </tr>\n",
       "    <tr>\n",
       "      <th>3</th>\n",
       "      <td>74</td>\n",
       "      <td>35</td>\n",
       "      <td>40</td>\n",
       "      <td>26.491096</td>\n",
       "      <td>80.158363</td>\n",
       "      <td>6.980401</td>\n",
       "      <td>242.864034</td>\n",
       "      <td>rice</td>\n",
       "      <td>17</td>\n",
       "    </tr>\n",
       "    <tr>\n",
       "      <th>4</th>\n",
       "      <td>78</td>\n",
       "      <td>42</td>\n",
       "      <td>42</td>\n",
       "      <td>20.130175</td>\n",
       "      <td>81.604873</td>\n",
       "      <td>7.628473</td>\n",
       "      <td>262.717340</td>\n",
       "      <td>rice</td>\n",
       "      <td>17</td>\n",
       "    </tr>\n",
       "    <tr>\n",
       "      <th>...</th>\n",
       "      <td>...</td>\n",
       "      <td>...</td>\n",
       "      <td>...</td>\n",
       "      <td>...</td>\n",
       "      <td>...</td>\n",
       "      <td>...</td>\n",
       "      <td>...</td>\n",
       "      <td>...</td>\n",
       "      <td>...</td>\n",
       "    </tr>\n",
       "    <tr>\n",
       "      <th>2195</th>\n",
       "      <td>107</td>\n",
       "      <td>34</td>\n",
       "      <td>32</td>\n",
       "      <td>26.774637</td>\n",
       "      <td>66.413269</td>\n",
       "      <td>6.780064</td>\n",
       "      <td>177.774507</td>\n",
       "      <td>coffee</td>\n",
       "      <td>3</td>\n",
       "    </tr>\n",
       "    <tr>\n",
       "      <th>2196</th>\n",
       "      <td>99</td>\n",
       "      <td>15</td>\n",
       "      <td>27</td>\n",
       "      <td>27.417112</td>\n",
       "      <td>56.636362</td>\n",
       "      <td>6.086922</td>\n",
       "      <td>127.924610</td>\n",
       "      <td>coffee</td>\n",
       "      <td>3</td>\n",
       "    </tr>\n",
       "    <tr>\n",
       "      <th>2197</th>\n",
       "      <td>118</td>\n",
       "      <td>33</td>\n",
       "      <td>30</td>\n",
       "      <td>24.131797</td>\n",
       "      <td>67.225123</td>\n",
       "      <td>6.362608</td>\n",
       "      <td>173.322839</td>\n",
       "      <td>coffee</td>\n",
       "      <td>3</td>\n",
       "    </tr>\n",
       "    <tr>\n",
       "      <th>2198</th>\n",
       "      <td>117</td>\n",
       "      <td>32</td>\n",
       "      <td>34</td>\n",
       "      <td>26.272418</td>\n",
       "      <td>52.127394</td>\n",
       "      <td>6.758793</td>\n",
       "      <td>127.175293</td>\n",
       "      <td>coffee</td>\n",
       "      <td>3</td>\n",
       "    </tr>\n",
       "    <tr>\n",
       "      <th>2199</th>\n",
       "      <td>104</td>\n",
       "      <td>18</td>\n",
       "      <td>30</td>\n",
       "      <td>23.603016</td>\n",
       "      <td>60.396475</td>\n",
       "      <td>6.779833</td>\n",
       "      <td>140.937041</td>\n",
       "      <td>coffee</td>\n",
       "      <td>3</td>\n",
       "    </tr>\n",
       "  </tbody>\n",
       "</table>\n",
       "<p>1637 rows × 9 columns</p>\n",
       "</div>"
      ],
      "text/plain": [
       "        N   P   K  temperature   humidity        ph    rainfall   label  \\\n",
       "0      90  42  43    20.879744  82.002744  6.502985  202.935536    rice   \n",
       "1      85  58  41    21.770462  80.319644  7.038096  226.655537    rice   \n",
       "2      60  55  44    23.004459  82.320763  7.840207  263.964248    rice   \n",
       "3      74  35  40    26.491096  80.158363  6.980401  242.864034    rice   \n",
       "4      78  42  42    20.130175  81.604873  7.628473  262.717340    rice   \n",
       "...   ...  ..  ..          ...        ...       ...         ...     ...   \n",
       "2195  107  34  32    26.774637  66.413269  6.780064  177.774507  coffee   \n",
       "2196   99  15  27    27.417112  56.636362  6.086922  127.924610  coffee   \n",
       "2197  118  33  30    24.131797  67.225123  6.362608  173.322839  coffee   \n",
       "2198  117  32  34    26.272418  52.127394  6.758793  127.175293  coffee   \n",
       "2199  104  18  30    23.603016  60.396475  6.779833  140.937041  coffee   \n",
       "\n",
       "      Encoded_label  \n",
       "0                17  \n",
       "1                17  \n",
       "2                17  \n",
       "3                17  \n",
       "4                17  \n",
       "...             ...  \n",
       "2195              3  \n",
       "2196              3  \n",
       "2197              3  \n",
       "2198              3  \n",
       "2199              3  \n",
       "\n",
       "[1637 rows x 9 columns]"
      ]
     },
     "execution_count": 157,
     "metadata": {},
     "output_type": "execute_result"
    }
   ],
   "source": [
    "df2"
   ]
  },
  {
   "cell_type": "code",
   "execution_count": 158,
   "id": "3ea6347d",
   "metadata": {},
   "outputs": [
    {
     "name": "stdout",
     "output_type": "stream",
     "text": [
      "Variable : N\n"
     ]
    },
    {
     "data": {
      "image/png": "[encoded data removed]",
      "text/plain": [
       "<Figure size 1080x360 with 1 Axes>"
      ]
     },
     "metadata": {
      "needs_background": "light"
     },
     "output_type": "display_data"
    },
    {
     "name": "stdout",
     "output_type": "stream",
     "text": [
      "Variable : P\n"
     ]
    },
    {
     "data": {
      "image/png": "[encoded data removed]",
      "text/plain": [
       "<Figure size 1080x360 with 1 Axes>"
      ]
     },
     "metadata": {
      "needs_background": "light"
     },
     "output_type": "display_data"
    },
    {
     "name": "stdout",
     "output_type": "stream",
     "text": [
      "Variable : K\n"
     ]
    },
    {
     "data": {
      "image/png": "[encoded data removed]",
      "text/plain": [
       "<Figure size 1080x360 with 1 Axes>"
      ]
     },
     "metadata": {
      "needs_background": "light"
     },
     "output_type": "display_data"
    },
    {
     "name": "stdout",
     "output_type": "stream",
     "text": [
      "Variable : TEMPERATURE\n"
     ]
    },
    {
     "data": {
      "image/png": "[encoded data removed]",
      "text/plain": [
       "<Figure size 1080x360 with 1 Axes>"
      ]
     },
     "metadata": {
      "needs_background": "light"
     },
     "output_type": "display_data"
    },
    {
     "name": "stdout",
     "output_type": "stream",
     "text": [
      "Variable : HUMIDITY\n"
     ]
    },
    {
     "data": {
      "image/png": "[encoded data removed]",
      "text/plain": [
       "<Figure size 1080x360 with 1 Axes>"
      ]
     },
     "metadata": {
      "needs_background": "light"
     },
     "output_type": "display_data"
    },
    {
     "name": "stdout",
     "output_type": "stream",
     "text": [
      "Variable : PH\n"
     ]
    },
    {
     "data": {
      "image/png": "[encoded data removed]",
      "text/plain": [
       "<Figure size 1080x360 with 1 Axes>"
      ]
     },
     "metadata": {
      "needs_background": "light"
     },
     "output_type": "display_data"
    },
    {
     "name": "stdout",
     "output_type": "stream",
     "text": [
      "Variable : RAINFALL\n"
     ]
    },
    {
     "data": {
      "image/png": "[encoded data removed]",
      "text/plain": [
       "<Figure size 1080x360 with 1 Axes>"
      ]
     },
     "metadata": {
      "needs_background": "light"
     },
     "output_type": "display_data"
    }
   ],
   "source": [
    "#plotting effect of input variable with output variable\n",
    "for i in df2.columns[:-2]:\n",
    "    plt.figure(figsize=(15,5))\n",
    "    print('Variable :',i.upper())\n",
    "    sns.boxplot(x=df2.label,y=df2[i])\n",
    "    plt.grid()\n",
    "    plt.xticks(rotation=90)\n",
    "    plt.show()"
   ]
  },
  {
   "cell_type": "code",
   "execution_count": 159,
   "id": "e20ffc18",
   "metadata": {},
   "outputs": [
    {
     "data": {
      "text/plain": [
       "<AxesSubplot:>"
      ]
     },
     "execution_count": 159,
     "metadata": {},
     "output_type": "execute_result"
    },
    {
     "data": {
      "image/png": "[encoded data removed]",
      "text/plain": [
       "<Figure size 720x432 with 2 Axes>"
      ]
     },
     "metadata": {
      "needs_background": "light"
     },
     "output_type": "display_data"
    }
   ],
   "source": [
    "#checking the corelation\n",
    "plt.figure(figsize=(10,6))\n",
    "sns.heatmap(df2.corr(),annot=True,cmap='RdBu')"
   ]
  },
  {
   "cell_type": "markdown",
   "id": "f5af0744",
   "metadata": {},
   "source": [
    "# 4 a) Model Building using logical Regression"
   ]
  },
  {
   "cell_type": "code",
   "execution_count": 166,
   "id": "73ff2ed1",
   "metadata": {},
   "outputs": [],
   "source": [
    "#Splitting the data into input and output\n",
    "X = df2.iloc[:,:-2]\n",
    "y = df2.Encoded_label"
   ]
  },
  {
   "cell_type": "code",
   "execution_count": 167,
   "id": "45ebf6a8",
   "metadata": {},
   "outputs": [],
   "source": [
    "#Splitting the data into train and test\n",
    "from sklearn.model_selection import train_test_split\n",
    "X_train, X_test, y_train, y_test = train_test_split(X,y,test_size=0.2,random_state=2)"
   ]
  },
  {
   "cell_type": "code",
   "execution_count": 178,
   "id": "4d1a64f9",
   "metadata": {},
   "outputs": [],
   "source": [
    "#importing necessary libraries\n",
    "from sklearn.linear_model import LogisticRegression\n",
    "from sklearn.metrics import classification_report, accuracy_score, plot_confusion_matrix\n",
    "from sklearn.ensemble import RandomForestClassifier\n",
    "from sklearn.tree import DecisionTreeClassifier\n",
    "from sklearn.metrics import confusion_matrix\n",
    "from sklearn.neighbors import KNeighborsClassifier"
   ]
  },
  {
   "cell_type": "code",
   "execution_count": 170,
   "id": "74f48b4c",
   "metadata": {},
   "outputs": [
    {
     "name": "stderr",
     "output_type": "stream",
     "text": [
      "C:\\Users\\acer\\anaconda3\\lib\\site-packages\\sklearn\\linear_model\\_logistic.py:763: ConvergenceWarning: lbfgs failed to converge (status=1):\n",
      "STOP: TOTAL NO. of ITERATIONS REACHED LIMIT.\n",
      "\n",
      "Increase the number of iterations (max_iter) or scale the data as shown in:\n",
      "    https://scikit-learn.org/stable/modules/preprocessing.html\n",
      "Please also refer to the documentation for alternative solver options:\n",
      "    https://scikit-learn.org/stable/modules/linear_model.html#logistic-regression\n",
      "  n_iter_i = _check_optimize_result(\n"
     ]
    }
   ],
   "source": [
    "# Create logical regression model\n",
    "from sklearn.linear_model import LogisticRegression # import logical regression from skl library and create the model\n",
    "logit_model = LogisticRegression()          # to create an instance of the model\n",
    "logit_model.fit(X_train, y_train) # to fit the regression model\n",
    "y_prediction= logit_model.predict(X_test) # to predict y value\n"
   ]
  },
  {
   "cell_type": "code",
   "execution_count": 171,
   "id": "d3321b8c",
   "metadata": {},
   "outputs": [
    {
     "name": "stdout",
     "output_type": "stream",
     "text": [
      "Accuracy is  0.9451219512195121\n"
     ]
    }
   ],
   "source": [
    "#Printing the accuracy of the model\n",
    "from sklearn.metrics import confusion_matrix, accuracy_score\n",
    "print(\"Accuracy is \",accuracy_score(y_test, y_prediction))\n"
   ]
  },
  {
   "cell_type": "code",
   "execution_count": 176,
   "id": "d053a74f",
   "metadata": {},
   "outputs": [
    {
     "data": {
      "text/plain": [
       "array([[ 4,  0,  0,  0,  0,  0,  0,  0,  0,  0,  0,  0,  0,  0,  0,  0,\n",
       "         0,  0,  0],\n",
       "       [ 0, 20,  0,  0,  0,  0,  0,  0,  0,  0,  3,  0,  0,  0,  0,  0,\n",
       "         0,  0,  0],\n",
       "       [ 0,  0, 26,  0,  0,  0,  0,  0,  0,  0,  0,  0,  0,  0,  0,  0,\n",
       "         0,  0,  0],\n",
       "       [ 0,  0,  0, 17,  0,  0,  0,  0,  0,  0,  0,  0,  0,  0,  0,  0,\n",
       "         0,  0,  0],\n",
       "       [ 0,  0,  0,  0, 20,  0,  0,  0,  1,  0,  0,  0,  0,  0,  0,  0,\n",
       "         0,  0,  0],\n",
       "       [ 0,  0,  0,  0,  0, 18,  0,  0,  0,  0,  0,  0,  0,  0,  0,  0,\n",
       "         0,  3,  0],\n",
       "       [ 0,  0,  0,  0,  0,  0, 14,  0,  0,  0,  0,  0,  0,  0,  0,  0,\n",
       "         0,  0,  0],\n",
       "       [ 0,  1,  0,  0,  0,  0,  0, 12,  0,  0,  0,  0,  0,  0,  0,  0,\n",
       "         0,  0,  0],\n",
       "       [ 0,  1,  0,  0,  1,  1,  0,  0, 11,  0,  0,  0,  0,  0,  0,  0,\n",
       "         0,  0,  0],\n",
       "       [ 0,  0,  0,  0,  0,  0,  0,  0,  0, 17,  0,  0,  0,  0,  0,  0,\n",
       "         0,  0,  0],\n",
       "       [ 0,  1,  0,  0,  0,  0,  0,  1,  0,  0,  9,  0,  0,  0,  0,  0,\n",
       "         0,  0,  0],\n",
       "       [ 0,  0,  0,  0,  0,  0,  0,  2,  0,  0,  0, 19,  0,  0,  0,  0,\n",
       "         0,  0,  0],\n",
       "       [ 0,  0,  0,  0,  0,  0,  0,  0,  0,  0,  0,  0, 18,  0,  0,  0,\n",
       "         0,  0,  0],\n",
       "       [ 0,  0,  0,  0,  0,  0,  0,  0,  0,  0,  0,  0,  0, 13,  0,  0,\n",
       "         0,  0,  0],\n",
       "       [ 0,  0,  0,  0,  0,  0,  0,  0,  0,  0,  0,  0,  0,  0, 15,  0,\n",
       "         0,  0,  1],\n",
       "       [ 0,  1,  0,  0,  0,  0,  0,  0,  0,  0,  0,  0,  0,  0,  0, 22,\n",
       "         0,  0,  0],\n",
       "       [ 0,  0,  0,  0,  0,  0,  0,  0,  0,  0,  0,  0,  0,  0,  1,  0,\n",
       "        13,  0,  0],\n",
       "       [ 0,  0,  0,  0,  0,  0,  0,  0,  0,  0,  0,  0,  0,  0,  0,  0,\n",
       "         0, 17,  0],\n",
       "       [ 0,  0,  0,  0,  0,  0,  0,  0,  0,  0,  0,  0,  0,  0,  0,  0,\n",
       "         0,  0, 25]], dtype=int64)"
      ]
     },
     "execution_count": 176,
     "metadata": {},
     "output_type": "execute_result"
    }
   ],
   "source": [
    "confusion_matrix(y_test, y_prediction)"
   ]
  },
  {
   "cell_type": "markdown",
   "id": "5a3dbf8a",
   "metadata": {},
   "source": [
    "# 4) Model Building using Random Forest"
   ]
  },
  {
   "cell_type": "code",
   "execution_count": 179,
   "id": "7890bb8e",
   "metadata": {},
   "outputs": [],
   "source": [
    "#splitting the data into train and test\n",
    "from sklearn.model_selection import train_test_split\n",
    "X_train, X_test,y_train, y_test= train_test_split(X,y,random_state=2,test_size=.3)"
   ]
  },
  {
   "cell_type": "code",
   "execution_count": 180,
   "id": "2f987a13",
   "metadata": {},
   "outputs": [
    {
     "data": {
      "text/plain": [
       "(1145, 7)"
      ]
     },
     "execution_count": 180,
     "metadata": {},
     "output_type": "execute_result"
    }
   ],
   "source": [
    "np.shape(X_train)"
   ]
  },
  {
   "cell_type": "code",
   "execution_count": 181,
   "id": "a81291af",
   "metadata": {},
   "outputs": [
    {
     "data": {
      "text/plain": [
       "(1145,)"
      ]
     },
     "execution_count": 181,
     "metadata": {},
     "output_type": "execute_result"
    }
   ],
   "source": [
    "np.shape(y_train)"
   ]
  },
  {
   "cell_type": "code",
   "execution_count": 182,
   "id": "f28526bd",
   "metadata": {},
   "outputs": [
    {
     "data": {
      "text/plain": [
       "RandomForestClassifier()"
      ]
     },
     "execution_count": 182,
     "metadata": {},
     "output_type": "execute_result"
    }
   ],
   "source": [
    "#Using Random Forest\n",
    "rf= RandomForestClassifier() \n",
    "rf.fit(X_train,y_train)"
   ]
  },
  {
   "cell_type": "code",
   "execution_count": 183,
   "id": "3711576e",
   "metadata": {},
   "outputs": [],
   "source": [
    "y_pred= rf.predict(X_test)"
   ]
  },
  {
   "cell_type": "code",
   "execution_count": 184,
   "id": "e75b680c",
   "metadata": {},
   "outputs": [
    {
     "name": "stdout",
     "output_type": "stream",
     "text": [
      "Accuracy is  0.9898373983739838\n"
     ]
    }
   ],
   "source": [
    "# calculate the accuracy score\n",
    "from sklearn.metrics import confusion_matrix, precision_score, accuracy_score, recall_score,f1_score\n",
    "print(\"Accuracy is \",accuracy_score(y_test, y_pred))"
   ]
  },
  {
   "cell_type": "markdown",
   "id": "0c8db131",
   "metadata": {},
   "source": [
    "# 4 c) Model Building using KNN"
   ]
  },
  {
   "cell_type": "code",
   "execution_count": 186,
   "id": "072a3988",
   "metadata": {},
   "outputs": [],
   "source": [
    "#using KNN\n",
    "acc_value=[]\n",
    "neighbors=np.arange(3,15) \n",
    "\n",
    "for k in neighbors: \n",
    "    classifier= KNeighborsClassifier(n_neighbors=k,metric=\"minkowski\") \n",
    "    classifier.fit(X_train,y_train) \n",
    "    y_pred=classifier.predict(X_test) \n",
    "    acc=accuracy_score(y_test, y_pred) \n",
    "    acc_value.append(acc)  "
   ]
  },
  {
   "cell_type": "code",
   "execution_count": 192,
   "id": "f4457026",
   "metadata": {},
   "outputs": [
    {
     "data": {
      "text/plain": [
       "Text(0, 0.5, 'Accuracy')"
      ]
     },
     "execution_count": 192,
     "metadata": {},
     "output_type": "execute_result"
    },
    {
     "data": {
      "image/png": "[encoded data removed]",
      "text/plain": [
       "<Figure size 432x288 with 1 Axes>"
      ]
     },
     "metadata": {
      "needs_background": "light"
     },
     "output_type": "display_data"
    }
   ],
   "source": [
    "plt.plot(neighbors,acc_value , \"*\")\n",
    "plt.xlabel(\"k Values\")\n",
    "plt.ylabel(\"Accuracy\")"
   ]
  },
  {
   "cell_type": "code",
   "execution_count": 194,
   "id": "d7641aeb",
   "metadata": {},
   "outputs": [
    {
     "name": "stdout",
     "output_type": "stream",
     "text": [
      "Accuracy is  0.9817073170731707\n"
     ]
    }
   ],
   "source": [
    "classifier= KNeighborsClassifier(n_neighbors=5,metric=\"minkowski\")\n",
    "classifier.fit(X_train,y_train) \n",
    "y_pred=classifier.predict(X_test) \n",
    "print(\"Accuracy is \",accuracy_score(y_test, y_pred))"
   ]
  },
  {
   "cell_type": "markdown",
   "id": "e41a3efe",
   "metadata": {},
   "source": [
    "# Step 5) Fine tuning of hyper parameter"
   ]
  },
  {
   "cell_type": "code",
   "execution_count": 196,
   "id": "552b38b6",
   "metadata": {},
   "outputs": [
    {
     "data": {
      "text/plain": [
       "RandomForestClassifier()"
      ]
     },
     "execution_count": 196,
     "metadata": {},
     "output_type": "execute_result"
    }
   ],
   "source": [
    "rf.fit(X_train,y_train)"
   ]
  },
  {
   "cell_type": "code",
   "execution_count": 197,
   "id": "d637ba52",
   "metadata": {},
   "outputs": [],
   "source": [
    "rft=RandomForestClassifier(n_estimators=500,max_depth=10, random_state=42,criterion=\"entropy\")"
   ]
  },
  {
   "cell_type": "code",
   "execution_count": 198,
   "id": "6c8d1d85",
   "metadata": {},
   "outputs": [
    {
     "data": {
      "text/plain": [
       "RandomForestClassifier(criterion='entropy', max_depth=10, n_estimators=500,\n",
       "                       random_state=42)"
      ]
     },
     "execution_count": 198,
     "metadata": {},
     "output_type": "execute_result"
    }
   ],
   "source": [
    "rft.fit(X_train,y_train) # Training the model with new hyper parameters"
   ]
  },
  {
   "cell_type": "code",
   "execution_count": 199,
   "id": "c308387f",
   "metadata": {},
   "outputs": [],
   "source": [
    "y_pred=rft.predict(X_test) # Predicitng new value with changed hyper parameter . instead of rf we use rft(chnged parameter)"
   ]
  },
  {
   "cell_type": "code",
   "execution_count": 200,
   "id": "9778c223",
   "metadata": {},
   "outputs": [
    {
     "name": "stdout",
     "output_type": "stream",
     "text": [
      "Accuracy is  0.9939024390243902\n"
     ]
    }
   ],
   "source": [
    "print(\"Accuracy is \",accuracy_score(y_test, y_pred))"
   ]
  },
  {
   "cell_type": "markdown",
   "id": "5f86aba7",
   "metadata": {},
   "source": [
    "After fine tuning of hyperparameter accuracy of the model is increased"
   ]
  },
  {
   "cell_type": "code",
   "execution_count": null,
   "id": "6a92b611",
   "metadata": {},
   "outputs": [],
   "source": []
  }
 ],
 "metadata": {
  "kernelspec": {
   "display_name": "Python 3",
   "language": "python",
   "name": "python3"
  },
  "language_info": {
   "codemirror_mode": {
    "name": "ipython",
    "version": 3
   },
   "file_extension": ".py",
   "mimetype": "text/x-python",
   "name": "python",
   "nbconvert_exporter": "python",
   "pygments_lexer": "ipython3",
   "version": "3.8.8"
  }
 },
 "nbformat": 4,
 "nbformat_minor": 5
}
